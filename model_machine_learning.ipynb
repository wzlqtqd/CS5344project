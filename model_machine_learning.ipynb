{
  "cells": [
    {
      "cell_type": "code",
      "execution_count": null,
      "metadata": {
        "id": "xue5LF5VWdEd"
      },
      "outputs": [],
      "source": [
        "#!pip install pyspark\n",
        "#!pip install numpy\n",
        "#!pip install pandas\n",
        "#!pip install sklearn\n",
        "#!pip install numpy cython\n",
        "#!pip install scipy --no-cache-dir\n",
        "#!pip install wheel\n",
        "#!brew install libomp\n",
        "#!pip install lightgbm"
      ]
    },
    {
      "cell_type": "code",
      "execution_count": 1,
      "metadata": {
        "id": "bUcFp4V_E2e-"
      },
      "outputs": [],
      "source": [
        "#from google.colab import drive\n",
        "import numpy as np\n",
        "import pandas as pd\n",
        "import re\n",
        "import lightgbm as lgb\n",
        "from sklearn.feature_extraction.text import TfidfVectorizer\n",
        "from sklearn.svm import SVC\n",
        "from sklearn.neighbors import KNeighborsClassifier\n",
        "from sklearn.naive_bayes import GaussianNB\n",
        "from sklearn.metrics import accuracy_score\n",
        "from time import time\n",
        "import pickle\n",
        "import scipy.sparse as sp\n",
        "from scipy.sparse import csr_matrix\n",
        "from sklearn.model_selection import train_test_split\n",
        "from sklearn.feature_extraction.text import CountVectorizer\n",
        "from sklearn.naive_bayes import MultinomialNB\n",
        "from sklearn.metrics import classification_report\n",
        "from scipy.sparse import hstack"
      ]
    },
    {
      "cell_type": "code",
      "execution_count": 9,
      "metadata": {
        "colab": {
          "base_uri": "https://localhost:8080/"
        },
        "id": "MSQiOsy7E8hi",
        "outputId": "86e31977-2e73-4a11-f654-82c0144b0558"
      },
      "outputs": [],
      "source": [
        "df = pd.read_csv('convincing_data.csv')"
      ]
    },
    {
      "cell_type": "code",
      "execution_count": 44,
      "metadata": {
        "id": "jl9m4SqpFh7Q"
      },
      "outputs": [],
      "source": [
        "####################################################################################################\n",
        "# sentiment score 0.33\n",
        "def sentimentClassify(sentiment_label):\n",
        "    if sentiment_label > 1/3:\n",
        "        return 1\n",
        "    elif sentiment_label < -1/3:\n",
        "        return -1\n",
        "    else:\n",
        "        return 0\n",
        "comments = df['body_cleaned']\n",
        "others = df[['score','body_length']]\n",
        "df['sentiment_tri'] = df['sentiment'].apply(sentimentClassify)\n",
        "\n",
        "y1 = df['sentiment_tri']"
      ]
    },
    {
      "cell_type": "code",
      "execution_count": 46,
      "metadata": {
        "colab": {
          "base_uri": "https://localhost:8080/",
          "height": 89
        },
        "id": "KTnGkTqOfSFF",
        "outputId": "add7b368-2867-4d63-b137-179a46c0d123"
      },
      "outputs": [],
      "source": [
        "####################################################################################################\n",
        "# sentiment score 0.5\n",
        "def map_sentiment_label(sentiment_label):\n",
        "    if sentiment_label > 0.5:\n",
        "        return 1\n",
        "    elif sentiment_label < -0.5:\n",
        "        return -1\n",
        "    else:\n",
        "        return 0\n",
        "\n",
        "y2 = df['sentiment'].apply(map_sentiment_label)\n"
      ]
    },
    {
      "cell_type": "code",
      "execution_count": 47,
      "metadata": {},
      "outputs": [
        {
          "data": {
            "image/png": "[encoded data removed]",
            "text/plain": [
              "<Figure size 432x288 with 1 Axes>"
            ]
          },
          "metadata": {
            "needs_background": "light"
          },
          "output_type": "display_data"
        }
      ],
      "source": [
        "import matplotlib.pyplot as plt\n",
        "# histogram plot\n",
        "sns.histplot(data=y1, color='red', label='[-0.33,0.33]', alpha=0.5)\n",
        "sns.histplot(data=y2, color='yellow', label='[-0.5,0.5]', alpha=0.5)\n",
        "#sns.histplot(data=y1, color='red', label='[-0.33,0.33]', alpha=1)\n",
        "\n",
        "# set attributes\n",
        "plt.title('Comparison of two interval selection')\n",
        "plt.xlabel('Sentiment')\n",
        "plt.ylabel('Count')\n",
        "plt.legend()\n",
        "\n",
        "# show\n",
        "plt.show()"
      ]
    },
    {
      "cell_type": "code",
      "execution_count": 48,
      "metadata": {
        "id": "9FwI2oaDRV7v"
      },
      "outputs": [],
      "source": [
        "#########################\n",
        "# process comments so that we can calculate tf-idf\n",
        "comments = df['body_cleaned']\n",
        "words_list = comments.apply(lambda x:re.split(r\"[\\[,'\\]\\s]+\", x)[1:])\n",
        "wordslist = words_list.apply(lambda x: ' '.join(x))"
      ]
    },
    {
      "cell_type": "code",
      "execution_count": 49,
      "metadata": {
        "id": "Hx7k4NyC32o9"
      },
      "outputs": [],
      "source": [
        "df['words_list'] = wordslist\n",
        "Dataset = df[['words_list','score','body_length','sentiment_tri']]\n",
        "#Dataset.to_csv('DataSet.csv')"
      ]
    },
    {
      "cell_type": "code",
      "execution_count": 69,
      "metadata": {
        "id": "tbB74G0zfSFH"
      },
      "outputs": [],
      "source": [
        "#########################\n",
        "# calculate tf-idf\n",
        "#tfidf_vectorizer = TfidfVectorizer(max_features = 1000)\n",
        "tfidf_vectorizer = TfidfVectorizer()\n",
        "vec_comments = tfidf_vectorizer.fit_transform(df['words_list'])\n",
        "\n",
        "#cnt_vectorizer = CountVectorizer()\n",
        "#vec_cnt_comments = cnt_vectorizer.fit_transform(df['words_list'])"
      ]
    },
    {
      "cell_type": "code",
      "execution_count": 78,
      "metadata": {},
      "outputs": [],
      "source": [
        "X_with_attrs = vec_comments\n",
        "#X_with_attrs = vec_cnt_comments"
      ]
    },
    {
      "cell_type": "code",
      "execution_count": 72,
      "metadata": {},
      "outputs": [],
      "source": [
        "#Y = pd.read_csv('DataSet_Y.csv',index_col=0)\n",
        "Y = Dataset['sentiment_tri']"
      ]
    },
    {
      "cell_type": "code",
      "execution_count": 80,
      "metadata": {
        "id": "ll1k-apL4wzS"
      },
      "outputs": [],
      "source": [
        "#########################\n",
        "# split data `set\n",
        "X_train, X_test, y_train, y_test = train_test_split(X_with_attrs, Y, test_size=0.2, random_state=42)"
      ]
    },
    {
      "cell_type": "code",
      "execution_count": 68,
      "metadata": {},
      "outputs": [
        {
          "data": {
            "text/plain": [
              "array([[ 1.41095440e+03, -1.67999705e+01,  2.47527741e+00, ...,\n",
              "         1.15970210e-01,  2.93221561e-02, -7.50627723e-02],\n",
              "       [ 3.20519850e+03,  3.15484177e+01, -2.75280729e+00, ...,\n",
              "         5.57168974e-02, -3.77880817e-01, -8.94080028e-01],\n",
              "       [ 1.31980920e+02, -5.63415035e+00,  2.37994196e+00, ...,\n",
              "        -7.12145294e-03, -3.40381635e-03, -1.52215367e-02],\n",
              "       ...,\n",
              "       [ 3.04025737e+02,  2.53639176e+00,  2.08154474e+00, ...,\n",
              "         1.72514981e-02, -6.29835577e-02,  4.47172769e-02],\n",
              "       [ 2.78000655e+03, -1.23978248e+01,  3.80203879e+00, ...,\n",
              "        -5.25679114e-01,  1.03768571e-01,  1.17288820e-01],\n",
              "       [ 5.81007784e+02, -1.79900470e+00,  2.06648037e+00, ...,\n",
              "         8.20904193e-02, -4.82328743e-01, -1.59219712e-01]])"
            ]
          },
          "execution_count": 68,
          "metadata": {},
          "output_type": "execute_result"
        }
      ],
      "source": [
        "X_train"
      ]
    },
    {
      "cell_type": "code",
      "execution_count": 81,
      "metadata": {
        "colab": {
          "base_uri": "https://localhost:8080/",
          "height": 92
        },
        "id": "yOXLtK-rnym1",
        "outputId": "c5ea2396-25a4-4b19-a29f-d7fb01e38e23"
      },
      "outputs": [
        {
          "name": "stdout",
          "output_type": "stream",
          "text": [
            "              precision    recall  f1-score   support\n",
            "\n",
            "          -1       0.68      0.76      0.71     59343\n",
            "           0       0.53      0.23      0.32     24013\n",
            "           1       0.68      0.76      0.72     58492\n",
            "\n",
            "    accuracy                           0.67    141848\n",
            "   macro avg       0.63      0.58      0.58    141848\n",
            "weighted avg       0.65      0.67      0.65    141848\n",
            "\n",
            "Testing accuracy 0.6677\n"
          ]
        }
      ],
      "source": [
        "from lightgbm import LGBMClassifier\n",
        "lgbm_clf=LGBMClassifier(boosting_type='gbdt', class_weight=None, \n",
        "               learning_rate=0.1, max_depth=6, n_estimators=300, \n",
        "               reg_alpha=0.0, reg_lambda=0.0,\n",
        "               colsample_bytree=1.0, subsample=1.0,\n",
        "               min_child_samples=20, min_child_weight=0.001, min_split_gain=0.0, num_leaves=100,\n",
        "               n_jobs=-1, objective='multiclass', importance_type='split',\n",
        "               random_state=42)\n",
        "lgbm_clf.fit(X_train,y_train)\n",
        "lgbm_y_pred = lgbm_clf.predict(X_test)\n",
        "print(classification_report(y_test, lgbm_y_pred))\n",
        "\n",
        "#print('Training accuracy {:.4f}'.format(lgbm_clf.score(X_train,y_train)))\n",
        "\n",
        "print('Testing accuracy {:.4f}'.format(lgbm_clf.score(X_test,y_test)))"
      ]
    },
    {
      "cell_type": "code",
      "execution_count": 82,
      "metadata": {},
      "outputs": [
        {
          "name": "stdout",
          "output_type": "stream",
          "text": [
            "Testing accuracy 0.4455\n",
            "              precision    recall  f1-score   support\n",
            "\n",
            "          -1       0.43      0.91      0.58     59343\n",
            "           0       0.00      0.00      0.00     24013\n",
            "           1       0.62      0.15      0.24     58492\n",
            "\n",
            "    accuracy                           0.45    141848\n",
            "   macro avg       0.35      0.36      0.28    141848\n",
            "weighted avg       0.43      0.45      0.34    141848\n",
            "\n"
          ]
        },
        {
          "name": "stderr",
          "output_type": "stream",
          "text": [
            "/Users/liangxin/miniconda3/envs/foo/lib/python3.8/site-packages/sklearn/metrics/_classification.py:1344: UndefinedMetricWarning: Precision and F-score are ill-defined and being set to 0.0 in labels with no predicted samples. Use `zero_division` parameter to control this behavior.\n",
            "  _warn_prf(average, modifier, msg_start, len(result))\n",
            "/Users/liangxin/miniconda3/envs/foo/lib/python3.8/site-packages/sklearn/metrics/_classification.py:1344: UndefinedMetricWarning: Precision and F-score are ill-defined and being set to 0.0 in labels with no predicted samples. Use `zero_division` parameter to control this behavior.\n",
            "  _warn_prf(average, modifier, msg_start, len(result))\n",
            "/Users/liangxin/miniconda3/envs/foo/lib/python3.8/site-packages/sklearn/metrics/_classification.py:1344: UndefinedMetricWarning: Precision and F-score are ill-defined and being set to 0.0 in labels with no predicted samples. Use `zero_division` parameter to control this behavior.\n",
            "  _warn_prf(average, modifier, msg_start, len(result))\n"
          ]
        }
      ],
      "source": [
        "from sklearn.naive_bayes import MultinomialNB\n",
        "from sklearn.metrics import classification_report\n",
        "from sklearn.preprocessing import MinMaxScaler\n",
        "\n",
        "scaler = MinMaxScaler(feature_range=(0,1))\n",
        "scaled_X_train = scaler.fit_transform(X_train)\n",
        "scaled_X_test = scaler.fit_transform(X_test)\n",
        "MlNB_clf = MultinomialNB()\n",
        "MlNB_clf.fit(scaled_X_train, y_train)\n",
        "\n",
        "MlNB_y_pred = MlNB_clf.predict(scaled_X_test)\n",
        "\n",
        "print(classification_report(y_test, MlNB_y_pred))\n",
        "print('Testing accuracy {:.4f}'.format(MlNB_clf.score(scaled_X_test,y_test)))"
      ]
    }
  ],
  "metadata": {
    "colab": {
      "provenance": []
    },
    "kernelspec": {
      "display_name": "Python 3",
      "name": "python3"
    },
    "language_info": {
      "codemirror_mode": {
        "name": "ipython",
        "version": 3
      },
      "file_extension": ".py",
      "mimetype": "text/x-python",
      "name": "python",
      "nbconvert_exporter": "python",
      "pygments_lexer": "ipython3",
      "version": "3.8.16"
    }
  },
  "nbformat": 4,
  "nbformat_minor": 0
}
