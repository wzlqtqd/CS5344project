{
 "cells": [
  {
   "cell_type": "markdown",
   "id": "729e3301",
   "metadata": {},
   "source": [
    "# EDA1 - Univariate Distribution and Relantionship between Subreddit.name and Sentiment\t"
   ]
  },
  {
   "cell_type": "markdown",
   "id": "338a72b9",
   "metadata": {},
   "source": [
    "## 1 Univariate distribution"
   ]
  },
  {
   "cell_type": "code",
   "execution_count": 1,
   "id": "cec82a89",
   "metadata": {},
   "outputs": [],
   "source": [
    "import numpy as np\n",
    "import pandas as pd\n",
    "import seaborn as sns\n",
    "import plotly.express as px\n",
    "import matplotlib.pyplot as plt\n",
    "import plotly.graph_objects as go\n",
    "from plotly.subplots import make_subplots\n",
    "import kaleido\n",
    "from datetime import datetime\n",
    "import pytz"
   ]
  },
  {
   "cell_type": "code",
   "execution_count": 51,
   "id": "fa52351a",
   "metadata": {},
   "outputs": [],
   "source": [
    "df = pd.read_csv('./dataset/convincing_data.csv')"
   ]
  },
  {
   "cell_type": "code",
   "execution_count": 3,
   "id": "bfc3e0ee",
   "metadata": {},
   "outputs": [
    {
     "data": {
      "text/plain": [
       "Index(['type', 'id', 'subreddit.id', 'subreddit.name', 'subreddit.nsfw',\n",
       "       'created_utc', 'permalink', 'sentiment', 'score', 'body_cleaned',\n",
       "       'climate_count', 'change_count', 'body_length', 'climate_proportion',\n",
       "       'change_proportion'],\n",
       "      dtype='object')"
      ]
     },
     "execution_count": 3,
     "metadata": {},
     "output_type": "execute_result"
    }
   ],
   "source": [
    "df.columns"
   ]
  },
  {
   "cell_type": "code",
   "execution_count": 4,
   "id": "ec12a8bb",
   "metadata": {},
   "outputs": [
    {
     "data": {
      "text/html": [
       "<div>\n",
       "<style scoped>\n",
       "    .dataframe tbody tr th:only-of-type {\n",
       "        vertical-align: middle;\n",
       "    }\n",
       "\n",
       "    .dataframe tbody tr th {\n",
       "        vertical-align: top;\n",
       "    }\n",
       "\n",
       "    .dataframe thead th {\n",
       "        text-align: right;\n",
       "    }\n",
       "</style>\n",
       "<table border=\"1\" class=\"dataframe\">\n",
       "  <thead>\n",
       "    <tr style=\"text-align: right;\">\n",
       "      <th></th>\n",
       "      <th>type</th>\n",
       "      <th>id</th>\n",
       "      <th>subreddit.id</th>\n",
       "      <th>subreddit.name</th>\n",
       "      <th>subreddit.nsfw</th>\n",
       "      <th>created_utc</th>\n",
       "      <th>permalink</th>\n",
       "      <th>sentiment</th>\n",
       "      <th>score</th>\n",
       "      <th>body_cleaned</th>\n",
       "      <th>climate_count</th>\n",
       "      <th>change_count</th>\n",
       "      <th>body_length</th>\n",
       "      <th>climate_proportion</th>\n",
       "      <th>change_proportion</th>\n",
       "    </tr>\n",
       "  </thead>\n",
       "  <tbody>\n",
       "    <tr>\n",
       "      <th>0</th>\n",
       "      <td>comment</td>\n",
       "      <td>imlcpab</td>\n",
       "      <td>2qh1i</td>\n",
       "      <td>askreddit</td>\n",
       "      <td>False</td>\n",
       "      <td>1661990065</td>\n",
       "      <td>https://old.reddit.com/r/AskReddit/comments/x2...</td>\n",
       "      <td>0.4690</td>\n",
       "      <td>2</td>\n",
       "      <td>['need', 'chang', 'law', 'worth', 'sell', 'agr...</td>\n",
       "      <td>2</td>\n",
       "      <td>3</td>\n",
       "      <td>403</td>\n",
       "      <td>0.004963</td>\n",
       "      <td>0.007444</td>\n",
       "    </tr>\n",
       "    <tr>\n",
       "      <th>1</th>\n",
       "      <td>comment</td>\n",
       "      <td>imlca5e</td>\n",
       "      <td>4tly53</td>\n",
       "      <td>collapseprep</td>\n",
       "      <td>False</td>\n",
       "      <td>1661989877</td>\n",
       "      <td>https://old.reddit.com/r/CollapsePrep/comments...</td>\n",
       "      <td>-0.8048</td>\n",
       "      <td>9</td>\n",
       "      <td>['california', 'veri', 'near', 'coast', 'suppo...</td>\n",
       "      <td>2</td>\n",
       "      <td>2</td>\n",
       "      <td>1277</td>\n",
       "      <td>0.001566</td>\n",
       "      <td>0.001566</td>\n",
       "    </tr>\n",
       "    <tr>\n",
       "      <th>2</th>\n",
       "      <td>comment</td>\n",
       "      <td>imlc8w9</td>\n",
       "      <td>2tja6</td>\n",
       "      <td>terriblefacebookmemes</td>\n",
       "      <td>False</td>\n",
       "      <td>1661989862</td>\n",
       "      <td>https://old.reddit.com/r/terriblefacebookmemes...</td>\n",
       "      <td>-0.8238</td>\n",
       "      <td>1</td>\n",
       "      <td>['matter', 'defin', 'real', 'scienc', 'scienc'...</td>\n",
       "      <td>2</td>\n",
       "      <td>2</td>\n",
       "      <td>636</td>\n",
       "      <td>0.003145</td>\n",
       "      <td>0.003145</td>\n",
       "    </tr>\n",
       "    <tr>\n",
       "      <th>3</th>\n",
       "      <td>comment</td>\n",
       "      <td>imlc2o0</td>\n",
       "      <td>2qh1i</td>\n",
       "      <td>askreddit</td>\n",
       "      <td>False</td>\n",
       "      <td>1661989785</td>\n",
       "      <td>https://old.reddit.com/r/AskReddit/comments/x2...</td>\n",
       "      <td>0.0000</td>\n",
       "      <td>9</td>\n",
       "      <td>['gt', 'climat', 'chang', 'mind', 'hi', 'degre...</td>\n",
       "      <td>4</td>\n",
       "      <td>2</td>\n",
       "      <td>263</td>\n",
       "      <td>0.015209</td>\n",
       "      <td>0.007605</td>\n",
       "    </tr>\n",
       "    <tr>\n",
       "      <th>4</th>\n",
       "      <td>comment</td>\n",
       "      <td>imlc1nx</td>\n",
       "      <td>2v2e5</td>\n",
       "      <td>effectivealtruism</td>\n",
       "      <td>False</td>\n",
       "      <td>1661989773</td>\n",
       "      <td>https://old.reddit.com/r/EffectiveAltruism/com...</td>\n",
       "      <td>-0.8439</td>\n",
       "      <td>4</td>\n",
       "      <td>['bad', 'scenario', 'climat', 'chang', 'exact'...</td>\n",
       "      <td>3</td>\n",
       "      <td>4</td>\n",
       "      <td>516</td>\n",
       "      <td>0.005814</td>\n",
       "      <td>0.007752</td>\n",
       "    </tr>\n",
       "  </tbody>\n",
       "</table>\n",
       "</div>"
      ],
      "text/plain": [
       "      type       id subreddit.id         subreddit.name  subreddit.nsfw  \\\n",
       "0  comment  imlcpab        2qh1i              askreddit           False   \n",
       "1  comment  imlca5e       4tly53           collapseprep           False   \n",
       "2  comment  imlc8w9        2tja6  terriblefacebookmemes           False   \n",
       "3  comment  imlc2o0        2qh1i              askreddit           False   \n",
       "4  comment  imlc1nx        2v2e5      effectivealtruism           False   \n",
       "\n",
       "   created_utc                                          permalink  sentiment  \\\n",
       "0   1661990065  https://old.reddit.com/r/AskReddit/comments/x2...     0.4690   \n",
       "1   1661989877  https://old.reddit.com/r/CollapsePrep/comments...    -0.8048   \n",
       "2   1661989862  https://old.reddit.com/r/terriblefacebookmemes...    -0.8238   \n",
       "3   1661989785  https://old.reddit.com/r/AskReddit/comments/x2...     0.0000   \n",
       "4   1661989773  https://old.reddit.com/r/EffectiveAltruism/com...    -0.8439   \n",
       "\n",
       "   score                                       body_cleaned  climate_count  \\\n",
       "0      2  ['need', 'chang', 'law', 'worth', 'sell', 'agr...              2   \n",
       "1      9  ['california', 'veri', 'near', 'coast', 'suppo...              2   \n",
       "2      1  ['matter', 'defin', 'real', 'scienc', 'scienc'...              2   \n",
       "3      9  ['gt', 'climat', 'chang', 'mind', 'hi', 'degre...              4   \n",
       "4      4  ['bad', 'scenario', 'climat', 'chang', 'exact'...              3   \n",
       "\n",
       "   change_count  body_length  climate_proportion  change_proportion  \n",
       "0             3          403            0.004963           0.007444  \n",
       "1             2         1277            0.001566           0.001566  \n",
       "2             2          636            0.003145           0.003145  \n",
       "3             2          263            0.015209           0.007605  \n",
       "4             4          516            0.005814           0.007752  "
      ]
     },
     "execution_count": 4,
     "metadata": {},
     "output_type": "execute_result"
    }
   ],
   "source": [
    "df.head()"
   ]
  },
  {
   "cell_type": "markdown",
   "id": "b2ae3085",
   "metadata": {},
   "source": [
    "## 1.1 Deal with utc"
   ]
  },
  {
   "cell_type": "code",
   "execution_count": 52,
   "id": "6ef76342",
   "metadata": {},
   "outputs": [],
   "source": [
    "df = df[['created_utc', 'sentiment', 'score', 'subreddit.name', 'body_length']]"
   ]
  },
  {
   "cell_type": "code",
   "execution_count": 6,
   "id": "7131322b",
   "metadata": {},
   "outputs": [],
   "source": [
    "def utc2time(utcint):\n",
    "    utc_timestamp = utcint\n",
    "\n",
    "    utc_time = datetime.utcfromtimestamp(utc_timestamp)\n",
    "\n",
    "    utc_timezone = pytz.utc\n",
    "    local_timezone = pytz.timezone('Asia/Shanghai')\n",
    "\n",
    "    local_time = utc_timezone.localize(utc_time).astimezone(local_timezone)\n",
    "    \n",
    "    return local_time\n",
    "\n",
    "df['time'] = df.created_utc.apply(lambda x: utc2time(x))"
   ]
  },
  {
   "cell_type": "code",
   "execution_count": 7,
   "id": "d26e91a0",
   "metadata": {},
   "outputs": [],
   "source": [
    "df['time_value'] = df.time.apply(lambda x: x.year+x.timetuple().tm_yday / (365 + x.is_leap_year))"
   ]
  },
  {
   "cell_type": "code",
   "execution_count": 39,
   "id": "c224bccf",
   "metadata": {},
   "outputs": [
    {
     "data": {
      "text/plain": [
       "'fig = px.histogram(data_frame = df,\\n                   x=\"time_value\",\\n                   labels = {\\'time_value\\':\\'year\\'},\\n                   color_discrete_sequence =  [\\'#58D68D\\',\\'#DE3163\\'],\\n                   marginal=\"box\",\\n                   nbins= 100,\\n                   template=\"plotly_white\"\\n                )\\nfig.update_layout(title = \"Distribution of time\" , title_x = 0.5)\\nfig.show()'"
      ]
     },
     "execution_count": 39,
     "metadata": {},
     "output_type": "execute_result"
    }
   ],
   "source": [
    "'''fig = px.histogram(data_frame = df,\n",
    "                   x=\"time_value\",\n",
    "                   labels = {'time_value':'year'},\n",
    "                   color_discrete_sequence =  ['#58D68D','#DE3163'],\n",
    "                   marginal=\"box\",\n",
    "                   nbins= 100,\n",
    "                   template=\"plotly_white\"\n",
    "                )\n",
    "fig.update_layout(title = \"Distribution of time\" , title_x = 0.5)\n",
    "fig.show()'''"
   ]
  },
  {
   "cell_type": "code",
   "execution_count": 9,
   "id": "5a8ceedd",
   "metadata": {},
   "outputs": [
    {
     "data": {
      "text/html": [
       "<style type=\"text/css\">\n",
       "#T_24b87_row0_col0 {\n",
       "  background-color: #008000;\n",
       "  color: #f1f1f1;\n",
       "}\n",
       "#T_24b87_row0_col1, #T_24b87_row0_col2, #T_24b87_row0_col3, #T_24b87_row0_col4, #T_24b87_row0_col5, #T_24b87_row0_col6, #T_24b87_row0_col7 {\n",
       "  background-color: #ebf3eb;\n",
       "  color: #000000;\n",
       "}\n",
       "</style>\n",
       "<table id=\"T_24b87\">\n",
       "  <thead>\n",
       "    <tr>\n",
       "      <th class=\"blank level0\" >&nbsp;</th>\n",
       "      <th id=\"T_24b87_level0_col0\" class=\"col_heading level0 col0\" >count</th>\n",
       "      <th id=\"T_24b87_level0_col1\" class=\"col_heading level0 col1\" >mean</th>\n",
       "      <th id=\"T_24b87_level0_col2\" class=\"col_heading level0 col2\" >std</th>\n",
       "      <th id=\"T_24b87_level0_col3\" class=\"col_heading level0 col3\" >min</th>\n",
       "      <th id=\"T_24b87_level0_col4\" class=\"col_heading level0 col4\" >25%</th>\n",
       "      <th id=\"T_24b87_level0_col5\" class=\"col_heading level0 col5\" >50%</th>\n",
       "      <th id=\"T_24b87_level0_col6\" class=\"col_heading level0 col6\" >75%</th>\n",
       "      <th id=\"T_24b87_level0_col7\" class=\"col_heading level0 col7\" >max</th>\n",
       "    </tr>\n",
       "  </thead>\n",
       "  <tbody>\n",
       "    <tr>\n",
       "      <th id=\"T_24b87_level0_row0\" class=\"row_heading level0 row0\" >time_value</th>\n",
       "      <td id=\"T_24b87_row0_col0\" class=\"data row0 col0\" >709237</td>\n",
       "      <td id=\"T_24b87_row0_col1\" class=\"data row0 col1\" >2019.119175</td>\n",
       "      <td id=\"T_24b87_row0_col2\" class=\"data row0 col2\" >2.482934</td>\n",
       "      <td id=\"T_24b87_row0_col3\" class=\"data row0 col3\" >2010.002740</td>\n",
       "      <td id=\"T_24b87_row0_col4\" class=\"data row0 col4\" >2017.454795</td>\n",
       "      <td id=\"T_24b87_row0_col5\" class=\"data row0 col5\" >2019.589041</td>\n",
       "      <td id=\"T_24b87_row0_col6\" class=\"data row0 col6\" >2021.043836</td>\n",
       "      <td id=\"T_24b87_row0_col7\" class=\"data row0 col7\" >2022.668493</td>\n",
       "    </tr>\n",
       "  </tbody>\n",
       "</table>\n"
      ],
      "text/plain": [
       "<pandas.io.formats.style.Styler at 0x2b584b52d10>"
      ]
     },
     "execution_count": 9,
     "metadata": {},
     "output_type": "execute_result"
    }
   ],
   "source": [
    "cm = sns.light_palette(\"green\", as_cmap=True)\n",
    "\n",
    "df[['time_value']].describe().T.style.format({'count': \"{:.0f}\", 'mean': \"{:.6f}\", 'std': \"{:.6f}\",\n",
    "                                      'min': \"{:.6f}\", '25%': \"{:.6f}\", '50%': \"{:.6f}\", '75%': \"{:.6f}\", 'max': \"{:.6f}\"})\\\n",
    "                                      .background_gradient(cmap=cm, axis=1)"
   ]
  },
  {
   "cell_type": "markdown",
   "id": "57f70fce",
   "metadata": {},
   "source": [
    "## 1.2 Deal with sentiment"
   ]
  },
  {
   "cell_type": "code",
   "execution_count": 27,
   "id": "b7cc805d",
   "metadata": {},
   "outputs": [
    {
     "data": {
      "text/plain": [
       "'fig = px.histogram(data_frame = df,\\n                   x=\"sentiment\",\\n                   color_discrete_sequence =  [\\'#58D68D\\',\\'#DE3163\\'],\\n                   marginal=\"box\",\\n                   nbins= 100,\\n                   template=\"plotly_white\"\\n                )\\nfig.update_layout(title = \"Distribution of sentiment\" , title_x = 0.5)\\nfig.show()'"
      ]
     },
     "execution_count": 27,
     "metadata": {},
     "output_type": "execute_result"
    }
   ],
   "source": [
    "'''fig = px.histogram(data_frame = df,\n",
    "                   x=\"sentiment\",\n",
    "                   color_discrete_sequence =  ['#58D68D','#DE3163'],\n",
    "                   marginal=\"box\",\n",
    "                   nbins= 100,\n",
    "                   template=\"plotly_white\"\n",
    "                )\n",
    "fig.update_layout(title = \"Distribution of sentiment\" , title_x = 0.5)\n",
    "fig.show()'''"
   ]
  },
  {
   "cell_type": "code",
   "execution_count": 11,
   "id": "d479a62f",
   "metadata": {},
   "outputs": [
    {
     "data": {
      "text/html": [
       "<style type=\"text/css\">\n",
       "#T_38fbd_row0_col0 {\n",
       "  background-color: #008000;\n",
       "  color: #f1f1f1;\n",
       "}\n",
       "#T_38fbd_row0_col1, #T_38fbd_row0_col2, #T_38fbd_row0_col3, #T_38fbd_row0_col4, #T_38fbd_row0_col5, #T_38fbd_row0_col6, #T_38fbd_row0_col7 {\n",
       "  background-color: #ebf3eb;\n",
       "  color: #000000;\n",
       "}\n",
       "</style>\n",
       "<table id=\"T_38fbd\">\n",
       "  <thead>\n",
       "    <tr>\n",
       "      <th class=\"blank level0\" >&nbsp;</th>\n",
       "      <th id=\"T_38fbd_level0_col0\" class=\"col_heading level0 col0\" >count</th>\n",
       "      <th id=\"T_38fbd_level0_col1\" class=\"col_heading level0 col1\" >mean</th>\n",
       "      <th id=\"T_38fbd_level0_col2\" class=\"col_heading level0 col2\" >std</th>\n",
       "      <th id=\"T_38fbd_level0_col3\" class=\"col_heading level0 col3\" >min</th>\n",
       "      <th id=\"T_38fbd_level0_col4\" class=\"col_heading level0 col4\" >25%</th>\n",
       "      <th id=\"T_38fbd_level0_col5\" class=\"col_heading level0 col5\" >50%</th>\n",
       "      <th id=\"T_38fbd_level0_col6\" class=\"col_heading level0 col6\" >75%</th>\n",
       "      <th id=\"T_38fbd_level0_col7\" class=\"col_heading level0 col7\" >max</th>\n",
       "    </tr>\n",
       "  </thead>\n",
       "  <tbody>\n",
       "    <tr>\n",
       "      <th id=\"T_38fbd_level0_row0\" class=\"row_heading level0 row0\" >sentiment</th>\n",
       "      <td id=\"T_38fbd_row0_col0\" class=\"data row0 col0\" >709237</td>\n",
       "      <td id=\"T_38fbd_row0_col1\" class=\"data row0 col1\" >-0.004377</td>\n",
       "      <td id=\"T_38fbd_row0_col2\" class=\"data row0 col2\" >0.736879</td>\n",
       "      <td id=\"T_38fbd_row0_col3\" class=\"data row0 col3\" >-0.999900</td>\n",
       "      <td id=\"T_38fbd_row0_col4\" class=\"data row0 col4\" >-0.774800</td>\n",
       "      <td id=\"T_38fbd_row0_col5\" class=\"data row0 col5\" >0.000000</td>\n",
       "      <td id=\"T_38fbd_row0_col6\" class=\"data row0 col6\" >0.771500</td>\n",
       "      <td id=\"T_38fbd_row0_col7\" class=\"data row0 col7\" >1.000000</td>\n",
       "    </tr>\n",
       "  </tbody>\n",
       "</table>\n"
      ],
      "text/plain": [
       "<pandas.io.formats.style.Styler at 0x2b584bb2020>"
      ]
     },
     "execution_count": 11,
     "metadata": {},
     "output_type": "execute_result"
    }
   ],
   "source": [
    "df[['sentiment']].describe().T.style.format({'count': \"{:.0f}\", 'mean': \"{:.6f}\", 'std': \"{:.6f}\",\n",
    "                                      'min': \"{:.6f}\", '25%': \"{:.6f}\", '50%': \"{:.6f}\", '75%': \"{:.6f}\", 'max': \"{:.6f}\"})\\\n",
    "                                      .background_gradient(cmap=cm, axis=1)"
   ]
  },
  {
   "cell_type": "markdown",
   "id": "2ec840a6",
   "metadata": {},
   "source": [
    "## 1.3 Deal with score"
   ]
  },
  {
   "cell_type": "code",
   "execution_count": 28,
   "id": "c0fed77c",
   "metadata": {},
   "outputs": [
    {
     "data": {
      "text/plain": [
       "'fig = px.histogram(data_frame = df,\\n                   x=\"score\",\\n                   log_y = True,\\n                   color_discrete_sequence =  [\\'#58D68D\\',\\'#DE3163\\'],\\n                   marginal=\"box\",\\n                   nbins= 100,\\n                   template=\"plotly_white\"\\n                )\\nfig.update_layout(title = \"Distribution of score\" , title_x = 0.5)\\nfig.show()'"
      ]
     },
     "execution_count": 28,
     "metadata": {},
     "output_type": "execute_result"
    }
   ],
   "source": [
    "'''fig = px.histogram(data_frame = df,\n",
    "                   x=\"score\",\n",
    "                   log_y = True,\n",
    "                   color_discrete_sequence =  ['#58D68D','#DE3163'],\n",
    "                   marginal=\"box\",\n",
    "                   nbins= 100,\n",
    "                   template=\"plotly_white\"\n",
    "                )\n",
    "fig.update_layout(title = \"Distribution of score\" , title_x = 0.5)\n",
    "fig.show()'''"
   ]
  },
  {
   "cell_type": "code",
   "execution_count": 13,
   "id": "c4556f7b",
   "metadata": {},
   "outputs": [
    {
     "data": {
      "text/html": [
       "<style type=\"text/css\">\n",
       "#T_ddd97_row0_col0 {\n",
       "  background-color: #008000;\n",
       "  color: #f1f1f1;\n",
       "}\n",
       "#T_ddd97_row0_col1, #T_ddd97_row0_col2, #T_ddd97_row0_col3, #T_ddd97_row0_col4, #T_ddd97_row0_col5, #T_ddd97_row0_col6 {\n",
       "  background-color: #ebf3eb;\n",
       "  color: #000000;\n",
       "}\n",
       "#T_ddd97_row0_col7 {\n",
       "  background-color: #e0eee0;\n",
       "  color: #000000;\n",
       "}\n",
       "</style>\n",
       "<table id=\"T_ddd97\">\n",
       "  <thead>\n",
       "    <tr>\n",
       "      <th class=\"blank level0\" >&nbsp;</th>\n",
       "      <th id=\"T_ddd97_level0_col0\" class=\"col_heading level0 col0\" >count</th>\n",
       "      <th id=\"T_ddd97_level0_col1\" class=\"col_heading level0 col1\" >mean</th>\n",
       "      <th id=\"T_ddd97_level0_col2\" class=\"col_heading level0 col2\" >std</th>\n",
       "      <th id=\"T_ddd97_level0_col3\" class=\"col_heading level0 col3\" >min</th>\n",
       "      <th id=\"T_ddd97_level0_col4\" class=\"col_heading level0 col4\" >25%</th>\n",
       "      <th id=\"T_ddd97_level0_col5\" class=\"col_heading level0 col5\" >50%</th>\n",
       "      <th id=\"T_ddd97_level0_col6\" class=\"col_heading level0 col6\" >75%</th>\n",
       "      <th id=\"T_ddd97_level0_col7\" class=\"col_heading level0 col7\" >max</th>\n",
       "    </tr>\n",
       "  </thead>\n",
       "  <tbody>\n",
       "    <tr>\n",
       "      <th id=\"T_ddd97_level0_row0\" class=\"row_heading level0 row0\" >score</th>\n",
       "      <td id=\"T_ddd97_row0_col0\" class=\"data row0 col0\" >709237</td>\n",
       "      <td id=\"T_ddd97_row0_col1\" class=\"data row0 col1\" >8.9</td>\n",
       "      <td id=\"T_ddd97_row0_col2\" class=\"data row0 col2\" >124.0</td>\n",
       "      <td id=\"T_ddd97_row0_col3\" class=\"data row0 col3\" >-518</td>\n",
       "      <td id=\"T_ddd97_row0_col4\" class=\"data row0 col4\" >1</td>\n",
       "      <td id=\"T_ddd97_row0_col5\" class=\"data row0 col5\" >2</td>\n",
       "      <td id=\"T_ddd97_row0_col6\" class=\"data row0 col6\" >5</td>\n",
       "      <td id=\"T_ddd97_row0_col7\" class=\"data row0 col7\" >30304</td>\n",
       "    </tr>\n",
       "  </tbody>\n",
       "</table>\n"
      ],
      "text/plain": [
       "<pandas.io.formats.style.Styler at 0x2b584be45e0>"
      ]
     },
     "execution_count": 13,
     "metadata": {},
     "output_type": "execute_result"
    }
   ],
   "source": [
    "df[['score']].describe().T.style.format({'count': \"{:.0f}\", 'mean': \"{:.1f}\", 'std': \"{:.1f}\",\n",
    "                                      'min': \"{:.0f}\", '25%': \"{:.0f}\", '50%': \"{:.0f}\", '75%': \"{:.0f}\", 'max': \"{:.0f}\"})\\\n",
    "                                      .background_gradient(cmap=cm, axis=1)"
   ]
  },
  {
   "cell_type": "markdown",
   "id": "a399652e",
   "metadata": {},
   "source": [
    "## 1.4 Deal with subreddit"
   ]
  },
  {
   "cell_type": "code",
   "execution_count": 30,
   "id": "7aa13bc9",
   "metadata": {},
   "outputs": [],
   "source": [
    "subr_freq = pd.DataFrame({'subreddit' : df['subreddit.name'].value_counts().index, \n",
    "                           'occurrence' : df['subreddit.name'].value_counts().values})"
   ]
  },
  {
   "cell_type": "code",
   "execution_count": 37,
   "id": "292f1b1e",
   "metadata": {},
   "outputs": [
    {
     "data": {
      "text/plain": [
       "'fig = px.histogram(data_frame = subr_freq,\\n                   x=\"occurrence\",\\n                   log_y = True,\\n                   color_discrete_sequence =  [\\'#58D68D\\',\\'#DE3163\\'],\\n                   marginal=\"box\",\\n                   nbins= 100,\\n                   template=\"plotly_white\"\\n                )\\nfig.update_layout(title = \"Distribution of subreddit occurrence\" , title_x = 0.5)\\nfig.show()'"
      ]
     },
     "execution_count": 37,
     "metadata": {},
     "output_type": "execute_result"
    }
   ],
   "source": [
    "'''fig = px.histogram(data_frame = subr_freq,\n",
    "                   x=\"occurrence\",\n",
    "                   log_y = True,\n",
    "                   color_discrete_sequence =  ['#58D68D','#DE3163'],\n",
    "                   marginal=\"box\",\n",
    "                   nbins= 100,\n",
    "                   template=\"plotly_white\"\n",
    "                )\n",
    "fig.update_layout(title = \"Distribution of subreddit occurrence\" , title_x = 0.5)\n",
    "fig.show()'''"
   ]
  },
  {
   "cell_type": "code",
   "execution_count": 32,
   "id": "4f684a5a",
   "metadata": {},
   "outputs": [
    {
     "data": {
      "text/html": [
       "<style type=\"text/css\">\n",
       "#T_34487_row0_col0 {\n",
       "  background-color: #c3e0c3;\n",
       "  color: #000000;\n",
       "}\n",
       "#T_34487_row0_col1, #T_34487_row0_col3, #T_34487_row0_col4, #T_34487_row0_col5, #T_34487_row0_col6 {\n",
       "  background-color: #ebf3eb;\n",
       "  color: #000000;\n",
       "}\n",
       "#T_34487_row0_col2 {\n",
       "  background-color: #e7f1e7;\n",
       "  color: #000000;\n",
       "}\n",
       "#T_34487_row0_col7 {\n",
       "  background-color: #008000;\n",
       "  color: #f1f1f1;\n",
       "}\n",
       "</style>\n",
       "<table id=\"T_34487\">\n",
       "  <thead>\n",
       "    <tr>\n",
       "      <th class=\"blank level0\" >&nbsp;</th>\n",
       "      <th id=\"T_34487_level0_col0\" class=\"col_heading level0 col0\" >count</th>\n",
       "      <th id=\"T_34487_level0_col1\" class=\"col_heading level0 col1\" >mean</th>\n",
       "      <th id=\"T_34487_level0_col2\" class=\"col_heading level0 col2\" >std</th>\n",
       "      <th id=\"T_34487_level0_col3\" class=\"col_heading level0 col3\" >min</th>\n",
       "      <th id=\"T_34487_level0_col4\" class=\"col_heading level0 col4\" >25%</th>\n",
       "      <th id=\"T_34487_level0_col5\" class=\"col_heading level0 col5\" >50%</th>\n",
       "      <th id=\"T_34487_level0_col6\" class=\"col_heading level0 col6\" >75%</th>\n",
       "      <th id=\"T_34487_level0_col7\" class=\"col_heading level0 col7\" >max</th>\n",
       "    </tr>\n",
       "  </thead>\n",
       "  <tbody>\n",
       "    <tr>\n",
       "      <th id=\"T_34487_level0_row0\" class=\"row_heading level0 row0\" >occurrence</th>\n",
       "      <td id=\"T_34487_row0_col0\" class=\"data row0 col0\" >10612</td>\n",
       "      <td id=\"T_34487_row0_col1\" class=\"data row0 col1\" >66.8</td>\n",
       "      <td id=\"T_34487_row0_col2\" class=\"data row0 col2\" >982.0</td>\n",
       "      <td id=\"T_34487_row0_col3\" class=\"data row0 col3\" >1</td>\n",
       "      <td id=\"T_34487_row0_col4\" class=\"data row0 col4\" >1</td>\n",
       "      <td id=\"T_34487_row0_col5\" class=\"data row0 col5\" >2</td>\n",
       "      <td id=\"T_34487_row0_col6\" class=\"data row0 col6\" >8</td>\n",
       "      <td id=\"T_34487_row0_col7\" class=\"data row0 col7\" >62713</td>\n",
       "    </tr>\n",
       "  </tbody>\n",
       "</table>\n"
      ],
      "text/plain": [
       "<pandas.io.formats.style.Styler at 0x2b589c59ed0>"
      ]
     },
     "execution_count": 32,
     "metadata": {},
     "output_type": "execute_result"
    }
   ],
   "source": [
    "subr_freq[['occurrence']].describe().T.style.format({'count': \"{:.0f}\", 'mean': \"{:.1f}\", 'std': \"{:.1f}\",\n",
    "                                      'min': \"{:.0f}\", '25%': \"{:.0f}\", '50%': \"{:.0f}\", '75%': \"{:.0f}\", 'max': \"{:.0f}\"})\\\n",
    "                                      .background_gradient(cmap=cm, axis=1)"
   ]
  },
  {
   "cell_type": "markdown",
   "id": "2a9e9ec3",
   "metadata": {},
   "source": [
    "## 1.5 Deal with body length"
   ]
  },
  {
   "cell_type": "code",
   "execution_count": 56,
   "id": "fb80b213",
   "metadata": {},
   "outputs": [
    {
     "data": {
      "text/plain": [
       "'fig = px.histogram(data_frame = df,\\n                   x=\"body_length\",\\n                   log_y = True,\\n                   color_discrete_sequence =  [\\'#58D68D\\',\\'#DE3163\\'],\\n                   marginal=\"box\",\\n                   nbins= 100,\\n                   template=\"plotly_white\"\\n                )\\nfig.update_layout(title = \"Distribution of body length\" , title_x = 0.5)\\nfig.show()'"
      ]
     },
     "execution_count": 56,
     "metadata": {},
     "output_type": "execute_result"
    }
   ],
   "source": [
    "'''fig = px.histogram(data_frame = df,\n",
    "                   x=\"body_length\",\n",
    "                   log_y = True,\n",
    "                   color_discrete_sequence =  ['#58D68D','#DE3163'],\n",
    "                   marginal=\"box\",\n",
    "                   nbins= 100,\n",
    "                   template=\"plotly_white\"\n",
    "                )\n",
    "fig.update_layout(title = \"Distribution of body length\" , title_x = 0.5)\n",
    "fig.show()'''"
   ]
  },
  {
   "cell_type": "code",
   "execution_count": 54,
   "id": "7bcaa361",
   "metadata": {},
   "outputs": [
    {
     "data": {
      "text/html": [
       "<style type=\"text/css\">\n",
       "#T_9d103_row0_col0 {\n",
       "  background-color: #008000;\n",
       "  color: #f1f1f1;\n",
       "}\n",
       "#T_9d103_row0_col1, #T_9d103_row0_col2, #T_9d103_row0_col3, #T_9d103_row0_col4, #T_9d103_row0_col5, #T_9d103_row0_col6 {\n",
       "  background-color: #ebf3eb;\n",
       "  color: #000000;\n",
       "}\n",
       "#T_9d103_row0_col7 {\n",
       "  background-color: #e6f1e6;\n",
       "  color: #000000;\n",
       "}\n",
       "</style>\n",
       "<table id=\"T_9d103\">\n",
       "  <thead>\n",
       "    <tr>\n",
       "      <th class=\"blank level0\" >&nbsp;</th>\n",
       "      <th id=\"T_9d103_level0_col0\" class=\"col_heading level0 col0\" >count</th>\n",
       "      <th id=\"T_9d103_level0_col1\" class=\"col_heading level0 col1\" >mean</th>\n",
       "      <th id=\"T_9d103_level0_col2\" class=\"col_heading level0 col2\" >std</th>\n",
       "      <th id=\"T_9d103_level0_col3\" class=\"col_heading level0 col3\" >min</th>\n",
       "      <th id=\"T_9d103_level0_col4\" class=\"col_heading level0 col4\" >25%</th>\n",
       "      <th id=\"T_9d103_level0_col5\" class=\"col_heading level0 col5\" >50%</th>\n",
       "      <th id=\"T_9d103_level0_col6\" class=\"col_heading level0 col6\" >75%</th>\n",
       "      <th id=\"T_9d103_level0_col7\" class=\"col_heading level0 col7\" >max</th>\n",
       "    </tr>\n",
       "  </thead>\n",
       "  <tbody>\n",
       "    <tr>\n",
       "      <th id=\"T_9d103_level0_row0\" class=\"row_heading level0 row0\" >body_length</th>\n",
       "      <td id=\"T_9d103_row0_col0\" class=\"data row0 col0\" >709237</td>\n",
       "      <td id=\"T_9d103_row0_col1\" class=\"data row0 col1\" >1000.1</td>\n",
       "      <td id=\"T_9d103_row0_col2\" class=\"data row0 col2\" >1124.9</td>\n",
       "      <td id=\"T_9d103_row0_col3\" class=\"data row0 col3\" >38</td>\n",
       "      <td id=\"T_9d103_row0_col4\" class=\"data row0 col4\" >346</td>\n",
       "      <td id=\"T_9d103_row0_col5\" class=\"data row0 col5\" >626</td>\n",
       "      <td id=\"T_9d103_row0_col6\" class=\"data row0 col6\" >1169</td>\n",
       "      <td id=\"T_9d103_row0_col7\" class=\"data row0 col7\" >16015</td>\n",
       "    </tr>\n",
       "  </tbody>\n",
       "</table>\n"
      ],
      "text/plain": [
       "<pandas.io.formats.style.Styler at 0x2b589c5a4a0>"
      ]
     },
     "execution_count": 54,
     "metadata": {},
     "output_type": "execute_result"
    }
   ],
   "source": [
    "df[['body_length']].describe().T.style.format({'count': \"{:.0f}\", 'mean': \"{:.1f}\", 'std': \"{:.1f}\",\n",
    "                                      'min': \"{:.0f}\", '25%': \"{:.0f}\", '50%': \"{:.0f}\", '75%': \"{:.0f}\", 'max': \"{:.0f}\"})\\\n",
    "                                      .background_gradient(cmap=cm, axis=1)"
   ]
  },
  {
   "cell_type": "markdown",
   "id": "dec4ffbe",
   "metadata": {},
   "source": [
    "# 2 Bivariate distribution"
   ]
  },
  {
   "cell_type": "code",
   "execution_count": 41,
   "id": "c6b2fdf6",
   "metadata": {},
   "outputs": [
    {
     "data": {
      "text/plain": [
       "11"
      ]
     },
     "execution_count": 41,
     "metadata": {},
     "output_type": "execute_result"
    }
   ],
   "source": [
    "subr_freq[subr_freq['occurrence'] > 10000].shape[0]"
   ]
  },
  {
   "cell_type": "code",
   "execution_count": 43,
   "id": "bb2be69c",
   "metadata": {},
   "outputs": [],
   "source": [
    "target_subreddit = set(subr_freq[subr_freq['occurrence'] > 10000]['subreddit'])"
   ]
  },
  {
   "cell_type": "code",
   "execution_count": 44,
   "id": "074d8bf9",
   "metadata": {},
   "outputs": [],
   "source": [
    "df_new = df[df['subreddit.name'].isin(target_subreddit)]\n",
    "df_new.reset_index(drop=True, inplace=True)"
   ]
  },
  {
   "cell_type": "code",
   "execution_count": 45,
   "id": "c96e1c63",
   "metadata": {},
   "outputs": [
    {
     "data": {
      "text/html": [
       "<div>\n",
       "<style scoped>\n",
       "    .dataframe tbody tr th:only-of-type {\n",
       "        vertical-align: middle;\n",
       "    }\n",
       "\n",
       "    .dataframe tbody tr th {\n",
       "        vertical-align: top;\n",
       "    }\n",
       "\n",
       "    .dataframe thead th {\n",
       "        text-align: right;\n",
       "    }\n",
       "</style>\n",
       "<table border=\"1\" class=\"dataframe\">\n",
       "  <thead>\n",
       "    <tr style=\"text-align: right;\">\n",
       "      <th></th>\n",
       "      <th>created_utc</th>\n",
       "      <th>sentiment</th>\n",
       "      <th>score</th>\n",
       "      <th>subreddit.name</th>\n",
       "      <th>time</th>\n",
       "      <th>time_value</th>\n",
       "    </tr>\n",
       "  </thead>\n",
       "  <tbody>\n",
       "    <tr>\n",
       "      <th>0</th>\n",
       "      <td>1661990065</td>\n",
       "      <td>0.4690</td>\n",
       "      <td>2</td>\n",
       "      <td>askreddit</td>\n",
       "      <td>2022-09-01 07:54:25+08:00</td>\n",
       "      <td>2022.668493</td>\n",
       "    </tr>\n",
       "    <tr>\n",
       "      <th>1</th>\n",
       "      <td>1661989785</td>\n",
       "      <td>0.0000</td>\n",
       "      <td>9</td>\n",
       "      <td>askreddit</td>\n",
       "      <td>2022-09-01 07:49:45+08:00</td>\n",
       "      <td>2022.668493</td>\n",
       "    </tr>\n",
       "    <tr>\n",
       "      <th>2</th>\n",
       "      <td>1661987214</td>\n",
       "      <td>0.5725</td>\n",
       "      <td>-1</td>\n",
       "      <td>environment</td>\n",
       "      <td>2022-09-01 07:06:54+08:00</td>\n",
       "      <td>2022.668493</td>\n",
       "    </tr>\n",
       "    <tr>\n",
       "      <th>3</th>\n",
       "      <td>1661986025</td>\n",
       "      <td>0.8947</td>\n",
       "      <td>15</td>\n",
       "      <td>politics</td>\n",
       "      <td>2022-09-01 06:47:05+08:00</td>\n",
       "      <td>2022.668493</td>\n",
       "    </tr>\n",
       "    <tr>\n",
       "      <th>4</th>\n",
       "      <td>1661983557</td>\n",
       "      <td>0.8658</td>\n",
       "      <td>1</td>\n",
       "      <td>futurology</td>\n",
       "      <td>2022-09-01 06:05:57+08:00</td>\n",
       "      <td>2022.668493</td>\n",
       "    </tr>\n",
       "    <tr>\n",
       "      <th>...</th>\n",
       "      <td>...</td>\n",
       "      <td>...</td>\n",
       "      <td>...</td>\n",
       "      <td>...</td>\n",
       "      <td>...</td>\n",
       "      <td>...</td>\n",
       "    </tr>\n",
       "    <tr>\n",
       "      <th>258552</th>\n",
       "      <td>1262450427</td>\n",
       "      <td>0.5541</td>\n",
       "      <td>-5</td>\n",
       "      <td>science</td>\n",
       "      <td>2010-01-03 00:40:27+08:00</td>\n",
       "      <td>2010.008219</td>\n",
       "    </tr>\n",
       "    <tr>\n",
       "      <th>258553</th>\n",
       "      <td>1262398553</td>\n",
       "      <td>-0.8150</td>\n",
       "      <td>-4</td>\n",
       "      <td>askreddit</td>\n",
       "      <td>2010-01-02 10:15:53+08:00</td>\n",
       "      <td>2010.005479</td>\n",
       "    </tr>\n",
       "    <tr>\n",
       "      <th>258554</th>\n",
       "      <td>1262383373</td>\n",
       "      <td>0.9366</td>\n",
       "      <td>2</td>\n",
       "      <td>environment</td>\n",
       "      <td>2010-01-02 06:02:53+08:00</td>\n",
       "      <td>2010.005479</td>\n",
       "    </tr>\n",
       "    <tr>\n",
       "      <th>258555</th>\n",
       "      <td>1262314480</td>\n",
       "      <td>0.0242</td>\n",
       "      <td>1</td>\n",
       "      <td>environment</td>\n",
       "      <td>2010-01-01 10:54:40+08:00</td>\n",
       "      <td>2010.002740</td>\n",
       "    </tr>\n",
       "    <tr>\n",
       "      <th>258556</th>\n",
       "      <td>1262306047</td>\n",
       "      <td>0.7998</td>\n",
       "      <td>1</td>\n",
       "      <td>askreddit</td>\n",
       "      <td>2010-01-01 08:34:07+08:00</td>\n",
       "      <td>2010.002740</td>\n",
       "    </tr>\n",
       "  </tbody>\n",
       "</table>\n",
       "<p>258557 rows × 6 columns</p>\n",
       "</div>"
      ],
      "text/plain": [
       "        created_utc  sentiment  score subreddit.name  \\\n",
       "0        1661990065     0.4690      2      askreddit   \n",
       "1        1661989785     0.0000      9      askreddit   \n",
       "2        1661987214     0.5725     -1    environment   \n",
       "3        1661986025     0.8947     15       politics   \n",
       "4        1661983557     0.8658      1     futurology   \n",
       "...             ...        ...    ...            ...   \n",
       "258552   1262450427     0.5541     -5        science   \n",
       "258553   1262398553    -0.8150     -4      askreddit   \n",
       "258554   1262383373     0.9366      2    environment   \n",
       "258555   1262314480     0.0242      1    environment   \n",
       "258556   1262306047     0.7998      1      askreddit   \n",
       "\n",
       "                            time   time_value  \n",
       "0      2022-09-01 07:54:25+08:00  2022.668493  \n",
       "1      2022-09-01 07:49:45+08:00  2022.668493  \n",
       "2      2022-09-01 07:06:54+08:00  2022.668493  \n",
       "3      2022-09-01 06:47:05+08:00  2022.668493  \n",
       "4      2022-09-01 06:05:57+08:00  2022.668493  \n",
       "...                          ...          ...  \n",
       "258552 2010-01-03 00:40:27+08:00  2010.008219  \n",
       "258553 2010-01-02 10:15:53+08:00  2010.005479  \n",
       "258554 2010-01-02 06:02:53+08:00  2010.005479  \n",
       "258555 2010-01-01 10:54:40+08:00  2010.002740  \n",
       "258556 2010-01-01 08:34:07+08:00  2010.002740  \n",
       "\n",
       "[258557 rows x 6 columns]"
      ]
     },
     "execution_count": 45,
     "metadata": {},
     "output_type": "execute_result"
    }
   ],
   "source": [
    "df_new"
   ]
  },
  {
   "cell_type": "code",
   "execution_count": 46,
   "id": "5342d715",
   "metadata": {},
   "outputs": [
    {
     "data": {
      "text/plain": [
       "worldnews          62713\n",
       "politics           52817\n",
       "askreddit          28185\n",
       "futurology         16696\n",
       "collapse           16127\n",
       "science            16123\n",
       "environment        14651\n",
       "news               13896\n",
       "climateskeptics    13176\n",
       "changemyview       12757\n",
       "canada             11416\n",
       "Name: subreddit.name, dtype: int64"
      ]
     },
     "execution_count": 46,
     "metadata": {},
     "output_type": "execute_result"
    }
   ],
   "source": [
    "df_new['subreddit.name'].value_counts()"
   ]
  },
  {
   "cell_type": "code",
   "execution_count": 47,
   "id": "879ec08e",
   "metadata": {},
   "outputs": [
    {
     "data": {
      "text/html": [
       "<div>\n",
       "<style scoped>\n",
       "    .dataframe tbody tr th:only-of-type {\n",
       "        vertical-align: middle;\n",
       "    }\n",
       "\n",
       "    .dataframe tbody tr th {\n",
       "        vertical-align: top;\n",
       "    }\n",
       "\n",
       "    .dataframe thead th {\n",
       "        text-align: right;\n",
       "    }\n",
       "</style>\n",
       "<table border=\"1\" class=\"dataframe\">\n",
       "  <thead>\n",
       "    <tr style=\"text-align: right;\">\n",
       "      <th></th>\n",
       "      <th>sentiment mean</th>\n",
       "      <th>sentiment std</th>\n",
       "    </tr>\n",
       "    <tr>\n",
       "      <th>subreddit</th>\n",
       "      <th></th>\n",
       "      <th></th>\n",
       "    </tr>\n",
       "  </thead>\n",
       "  <tbody>\n",
       "    <tr>\n",
       "      <th>askreddit</th>\n",
       "      <td>-0.049775</td>\n",
       "      <td>0.708427</td>\n",
       "    </tr>\n",
       "    <tr>\n",
       "      <th>canada</th>\n",
       "      <td>0.009040</td>\n",
       "      <td>0.714511</td>\n",
       "    </tr>\n",
       "    <tr>\n",
       "      <th>changemyview</th>\n",
       "      <td>0.007457</td>\n",
       "      <td>0.784153</td>\n",
       "    </tr>\n",
       "    <tr>\n",
       "      <th>climateskeptics</th>\n",
       "      <td>0.026676</td>\n",
       "      <td>0.730553</td>\n",
       "    </tr>\n",
       "    <tr>\n",
       "      <th>collapse</th>\n",
       "      <td>-0.170942</td>\n",
       "      <td>0.747230</td>\n",
       "    </tr>\n",
       "    <tr>\n",
       "      <th>environment</th>\n",
       "      <td>0.012764</td>\n",
       "      <td>0.735836</td>\n",
       "    </tr>\n",
       "    <tr>\n",
       "      <th>futurology</th>\n",
       "      <td>-0.012500</td>\n",
       "      <td>0.733190</td>\n",
       "    </tr>\n",
       "    <tr>\n",
       "      <th>news</th>\n",
       "      <td>-0.090419</td>\n",
       "      <td>0.705630</td>\n",
       "    </tr>\n",
       "    <tr>\n",
       "      <th>politics</th>\n",
       "      <td>-0.004705</td>\n",
       "      <td>0.725536</td>\n",
       "    </tr>\n",
       "    <tr>\n",
       "      <th>science</th>\n",
       "      <td>0.084713</td>\n",
       "      <td>0.696251</td>\n",
       "    </tr>\n",
       "    <tr>\n",
       "      <th>worldnews</th>\n",
       "      <td>-0.041597</td>\n",
       "      <td>0.725188</td>\n",
       "    </tr>\n",
       "  </tbody>\n",
       "</table>\n",
       "</div>"
      ],
      "text/plain": [
       "                 sentiment mean  sentiment std\n",
       "subreddit                                     \n",
       "askreddit             -0.049775       0.708427\n",
       "canada                 0.009040       0.714511\n",
       "changemyview           0.007457       0.784153\n",
       "climateskeptics        0.026676       0.730553\n",
       "collapse              -0.170942       0.747230\n",
       "environment            0.012764       0.735836\n",
       "futurology            -0.012500       0.733190\n",
       "news                  -0.090419       0.705630\n",
       "politics              -0.004705       0.725536\n",
       "science                0.084713       0.696251\n",
       "worldnews             -0.041597       0.725188"
      ]
     },
     "execution_count": 47,
     "metadata": {},
     "output_type": "execute_result"
    }
   ],
   "source": [
    "result = df_new.groupby('subreddit.name')['sentiment'].agg(['mean', 'std'])\n",
    "result.rename(columns={'subreddit.name':'subreddit', 'mean':'sentiment mean', 'std': 'sentiment std'}, inplace=True)\n",
    "result.index.rename('subreddit', inplace=True)\n",
    "\n",
    "result"
   ]
  },
  {
   "cell_type": "code",
   "execution_count": 48,
   "id": "e7deaab8",
   "metadata": {},
   "outputs": [
    {
     "data": {
      "text/html": [
       "<div>\n",
       "<style scoped>\n",
       "    .dataframe tbody tr th:only-of-type {\n",
       "        vertical-align: middle;\n",
       "    }\n",
       "\n",
       "    .dataframe tbody tr th {\n",
       "        vertical-align: top;\n",
       "    }\n",
       "\n",
       "    .dataframe thead th {\n",
       "        text-align: right;\n",
       "    }\n",
       "</style>\n",
       "<table border=\"1\" class=\"dataframe\">\n",
       "  <thead>\n",
       "    <tr style=\"text-align: right;\">\n",
       "      <th></th>\n",
       "      <th>sentiment mean</th>\n",
       "      <th>sentiment std</th>\n",
       "    </tr>\n",
       "    <tr>\n",
       "      <th>subreddit</th>\n",
       "      <th></th>\n",
       "      <th></th>\n",
       "    </tr>\n",
       "  </thead>\n",
       "  <tbody>\n",
       "    <tr>\n",
       "      <th>collapse</th>\n",
       "      <td>-0.170942</td>\n",
       "      <td>0.747230</td>\n",
       "    </tr>\n",
       "    <tr>\n",
       "      <th>news</th>\n",
       "      <td>-0.090419</td>\n",
       "      <td>0.705630</td>\n",
       "    </tr>\n",
       "    <tr>\n",
       "      <th>askreddit</th>\n",
       "      <td>-0.049775</td>\n",
       "      <td>0.708427</td>\n",
       "    </tr>\n",
       "    <tr>\n",
       "      <th>worldnews</th>\n",
       "      <td>-0.041597</td>\n",
       "      <td>0.725188</td>\n",
       "    </tr>\n",
       "    <tr>\n",
       "      <th>futurology</th>\n",
       "      <td>-0.012500</td>\n",
       "      <td>0.733190</td>\n",
       "    </tr>\n",
       "    <tr>\n",
       "      <th>politics</th>\n",
       "      <td>-0.004705</td>\n",
       "      <td>0.725536</td>\n",
       "    </tr>\n",
       "    <tr>\n",
       "      <th>changemyview</th>\n",
       "      <td>0.007457</td>\n",
       "      <td>0.784153</td>\n",
       "    </tr>\n",
       "    <tr>\n",
       "      <th>canada</th>\n",
       "      <td>0.009040</td>\n",
       "      <td>0.714511</td>\n",
       "    </tr>\n",
       "    <tr>\n",
       "      <th>environment</th>\n",
       "      <td>0.012764</td>\n",
       "      <td>0.735836</td>\n",
       "    </tr>\n",
       "    <tr>\n",
       "      <th>climateskeptics</th>\n",
       "      <td>0.026676</td>\n",
       "      <td>0.730553</td>\n",
       "    </tr>\n",
       "    <tr>\n",
       "      <th>science</th>\n",
       "      <td>0.084713</td>\n",
       "      <td>0.696251</td>\n",
       "    </tr>\n",
       "  </tbody>\n",
       "</table>\n",
       "</div>"
      ],
      "text/plain": [
       "                 sentiment mean  sentiment std\n",
       "subreddit                                     \n",
       "collapse              -0.170942       0.747230\n",
       "news                  -0.090419       0.705630\n",
       "askreddit             -0.049775       0.708427\n",
       "worldnews             -0.041597       0.725188\n",
       "futurology            -0.012500       0.733190\n",
       "politics              -0.004705       0.725536\n",
       "changemyview           0.007457       0.784153\n",
       "canada                 0.009040       0.714511\n",
       "environment            0.012764       0.735836\n",
       "climateskeptics        0.026676       0.730553\n",
       "science                0.084713       0.696251"
      ]
     },
     "execution_count": 48,
     "metadata": {},
     "output_type": "execute_result"
    }
   ],
   "source": [
    "result_sort = result.sort_values(by='sentiment mean', ascending=True)\n",
    "result_sort"
   ]
  },
  {
   "cell_type": "code",
   "execution_count": null,
   "id": "df435e96",
   "metadata": {},
   "outputs": [],
   "source": []
  }
 ],
 "metadata": {
  "kernelspec": {
   "display_name": "cs5344",
   "language": "python",
   "name": "cs5344"
  },
  "language_info": {
   "codemirror_mode": {
    "name": "ipython",
    "version": 3
   },
   "file_extension": ".py",
   "mimetype": "text/x-python",
   "name": "python",
   "nbconvert_exporter": "python",
   "pygments_lexer": "ipython3",
   "version": "3.10.9"
  }
 },
 "nbformat": 4,
 "nbformat_minor": 5
}
