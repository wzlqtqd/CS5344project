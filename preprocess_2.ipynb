{
 "cells": [
  {
   "cell_type": "markdown",
   "metadata": {
    "id": "5icR4XCZgm4O"
   },
   "source": [
    "# Filter on all data"
   ]
  },
  {
   "cell_type": "markdown",
   "metadata": {
    "id": "IypYLnGZ1Cft"
   },
   "source": [
    "- Filter the rows where the count of 'climate' and 'change' in the text exceeds the threshold and the proportion of 'climate' and 'change' in the text exceeds the threshold\n",
    "- Obtained 709,237 rows of convincing data."
   ]
  },
  {
   "cell_type": "code",
   "execution_count": 1,
   "metadata": {
    "id": "XGUAJ5aG1Q-I"
   },
   "outputs": [],
   "source": [
    "import numpy as np\n",
    "import pandas as pd\n",
    "\n",
    "df = pd.read_csv('./dataset/all_data.csv')"
   ]
  },
  {
   "cell_type": "code",
   "execution_count": 2,
   "metadata": {
    "id": "e7bLFUq0wHyG"
   },
   "outputs": [
    {
     "data": {
      "text/html": [
       "<div>\n",
       "<style scoped>\n",
       "    .dataframe tbody tr th:only-of-type {\n",
       "        vertical-align: middle;\n",
       "    }\n",
       "\n",
       "    .dataframe tbody tr th {\n",
       "        vertical-align: top;\n",
       "    }\n",
       "\n",
       "    .dataframe thead th {\n",
       "        text-align: right;\n",
       "    }\n",
       "</style>\n",
       "<table border=\"1\" class=\"dataframe\">\n",
       "  <thead>\n",
       "    <tr style=\"text-align: right;\">\n",
       "      <th></th>\n",
       "      <th>type</th>\n",
       "      <th>id</th>\n",
       "      <th>subreddit.id</th>\n",
       "      <th>subreddit.name</th>\n",
       "      <th>subreddit.nsfw</th>\n",
       "      <th>created_utc</th>\n",
       "      <th>permalink</th>\n",
       "      <th>sentiment</th>\n",
       "      <th>score</th>\n",
       "      <th>body_cleaned</th>\n",
       "    </tr>\n",
       "  </thead>\n",
       "  <tbody>\n",
       "    <tr>\n",
       "      <th>0</th>\n",
       "      <td>comment</td>\n",
       "      <td>imlddn9</td>\n",
       "      <td>2qh3l</td>\n",
       "      <td>news</td>\n",
       "      <td>False</td>\n",
       "      <td>1661990368</td>\n",
       "      <td>https://old.reddit.com/r/news/comments/x2cszk/...</td>\n",
       "      <td>0.5719</td>\n",
       "      <td>2</td>\n",
       "      <td>['yeah', 'abov', 'comment', 'say', 'base', 'wa...</td>\n",
       "    </tr>\n",
       "    <tr>\n",
       "      <th>1</th>\n",
       "      <td>comment</td>\n",
       "      <td>imldbeh</td>\n",
       "      <td>2qn7b</td>\n",
       "      <td>ohio</td>\n",
       "      <td>False</td>\n",
       "      <td>1661990340</td>\n",
       "      <td>https://old.reddit.com/r/Ohio/comments/x2awnp/...</td>\n",
       "      <td>-0.9877</td>\n",
       "      <td>2</td>\n",
       "      <td>['ani', 'comparison', 'effici', 'solar', 'foss...</td>\n",
       "    </tr>\n",
       "    <tr>\n",
       "      <th>2</th>\n",
       "      <td>comment</td>\n",
       "      <td>imldado</td>\n",
       "      <td>2qhma</td>\n",
       "      <td>newzealand</td>\n",
       "      <td>False</td>\n",
       "      <td>1661990327</td>\n",
       "      <td>https://old.reddit.com/r/newzealand/comments/x...</td>\n",
       "      <td>-0.1143</td>\n",
       "      <td>1</td>\n",
       "      <td>['honest', 'wait', 'climat', 'chang', 'impact'...</td>\n",
       "    </tr>\n",
       "    <tr>\n",
       "      <th>3</th>\n",
       "      <td>comment</td>\n",
       "      <td>imld6cb</td>\n",
       "      <td>2qi09</td>\n",
       "      <td>sacramento</td>\n",
       "      <td>False</td>\n",
       "      <td>1661990278</td>\n",
       "      <td>https://old.reddit.com/r/Sacramento/comments/x...</td>\n",
       "      <td>0.0000</td>\n",
       "      <td>4</td>\n",
       "      <td>['sacramento', 'actual', 'happen', 'world', 'c...</td>\n",
       "    </tr>\n",
       "    <tr>\n",
       "      <th>4</th>\n",
       "      <td>comment</td>\n",
       "      <td>imld0kj</td>\n",
       "      <td>2qh1i</td>\n",
       "      <td>askreddit</td>\n",
       "      <td>False</td>\n",
       "      <td>1661990206</td>\n",
       "      <td>https://old.reddit.com/r/AskReddit/comments/x2...</td>\n",
       "      <td>0.6634</td>\n",
       "      <td>1</td>\n",
       "      <td>['think', 'climat', 'chang', 'tend', 'get', 'p...</td>\n",
       "    </tr>\n",
       "  </tbody>\n",
       "</table>\n",
       "</div>"
      ],
      "text/plain": [
       "      type       id subreddit.id subreddit.name  subreddit.nsfw  created_utc  \\\n",
       "0  comment  imlddn9        2qh3l           news           False   1661990368   \n",
       "1  comment  imldbeh        2qn7b           ohio           False   1661990340   \n",
       "2  comment  imldado        2qhma     newzealand           False   1661990327   \n",
       "3  comment  imld6cb        2qi09     sacramento           False   1661990278   \n",
       "4  comment  imld0kj        2qh1i      askreddit           False   1661990206   \n",
       "\n",
       "                                           permalink  sentiment  score  \\\n",
       "0  https://old.reddit.com/r/news/comments/x2cszk/...     0.5719      2   \n",
       "1  https://old.reddit.com/r/Ohio/comments/x2awnp/...    -0.9877      2   \n",
       "2  https://old.reddit.com/r/newzealand/comments/x...    -0.1143      1   \n",
       "3  https://old.reddit.com/r/Sacramento/comments/x...     0.0000      4   \n",
       "4  https://old.reddit.com/r/AskReddit/comments/x2...     0.6634      1   \n",
       "\n",
       "                                        body_cleaned  \n",
       "0  ['yeah', 'abov', 'comment', 'say', 'base', 'wa...  \n",
       "1  ['ani', 'comparison', 'effici', 'solar', 'foss...  \n",
       "2  ['honest', 'wait', 'climat', 'chang', 'impact'...  \n",
       "3  ['sacramento', 'actual', 'happen', 'world', 'c...  \n",
       "4  ['think', 'climat', 'chang', 'tend', 'get', 'p...  "
      ]
     },
     "execution_count": 2,
     "metadata": {},
     "output_type": "execute_result"
    }
   ],
   "source": [
    "df.head()"
   ]
  },
  {
   "cell_type": "code",
   "execution_count": 3,
   "metadata": {},
   "outputs": [
    {
     "data": {
      "text/plain": [
       "Index(['type', 'id', 'subreddit.id', 'subreddit.name', 'subreddit.nsfw',\n",
       "       'created_utc', 'permalink', 'sentiment', 'score', 'body_cleaned'],\n",
       "      dtype='object')"
      ]
     },
     "execution_count": 3,
     "metadata": {},
     "output_type": "execute_result"
    }
   ],
   "source": [
    "df.columns"
   ]
  },
  {
   "cell_type": "code",
   "execution_count": 4,
   "metadata": {
    "id": "XCJ7W44v0o7Q"
   },
   "outputs": [],
   "source": [
    "df['climate_count'] = df['body_cleaned'].apply(lambda x: x.count('climat'))\n",
    "df['change_count'] = df['body_cleaned'].apply(lambda x: x.count('chang'))\n",
    "df['body_length'] = df['body_cleaned'].apply(lambda x: len(x.strip('[]').replace(\"'\",'').split(', ')))\n",
    "df['climate_proportion'] = df['climate_count']/df['body_length']\n",
    "df['change_proportion'] = df['change_count']/df['body_length']"
   ]
  },
  {
   "cell_type": "code",
   "execution_count": 5,
   "metadata": {},
   "outputs": [],
   "source": [
    "df_new = df[(df['climate_proportion'] > 0.001) & (df['change_proportion'] > 0.001) & (df['climate_count'] >= 2) & (df['change_count'] >= 2)]"
   ]
  },
  {
   "cell_type": "code",
   "execution_count": 6,
   "metadata": {},
   "outputs": [
    {
     "data": {
      "text/plain": [
       "type                  709237\n",
       "id                    709237\n",
       "subreddit.id          709237\n",
       "subreddit.name        709237\n",
       "subreddit.nsfw        709237\n",
       "created_utc           709237\n",
       "permalink             709237\n",
       "sentiment             709237\n",
       "score                 709237\n",
       "body_cleaned          709237\n",
       "climate_count         709237\n",
       "change_count          709237\n",
       "body_length           709237\n",
       "climate_proportion    709237\n",
       "change_proportion     709237\n",
       "dtype: int64"
      ]
     },
     "execution_count": 6,
     "metadata": {},
     "output_type": "execute_result"
    }
   ],
   "source": [
    "df_new.count()"
   ]
  },
  {
   "cell_type": "code",
   "execution_count": 7,
   "metadata": {},
   "outputs": [],
   "source": [
    "df_new.to_csv('dataset/convincing_data.csv', index=False, encoding='utf-8-sig')"
   ]
  }
 ],
 "metadata": {
  "accelerator": "GPU",
  "colab": {
   "machine_shape": "hm",
   "provenance": []
  },
  "gpuClass": "premium",
  "kernelspec": {
   "display_name": "cs5344",
   "language": "python",
   "name": "cs5344"
  },
  "language_info": {
   "codemirror_mode": {
    "name": "ipython",
    "version": 3
   },
   "file_extension": ".py",
   "mimetype": "text/x-python",
   "name": "python",
   "nbconvert_exporter": "python",
   "pygments_lexer": "ipython3",
   "version": "3.10.9"
  }
 },
 "nbformat": 4,
 "nbformat_minor": 1
}
