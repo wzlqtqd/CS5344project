{
  "nbformat": 4,
  "nbformat_minor": 0,
  "metadata": {
    "colab": {
      "provenance": [],
      "machine_shape": "hm"
    },
    "kernelspec": {
      "name": "python3",
      "display_name": "Python 3"
    },
    "language_info": {
      "name": "python"
    },
    "gpuClass": "standard"
  },
  "cells": [
    {
      "cell_type": "markdown",
      "source": [
        "EDA on 'Created_utc'"
      ],
      "metadata": {
        "id": "VSoJZk2KeR5s"
      }
    },
    {
      "cell_type": "code",
      "source": [
        "from google.colab import drive\n",
        "drive.mount('/content/drive')"
      ],
      "metadata": {
        "colab": {
          "base_uri": "https://localhost:8080/"
        },
        "id": "jN71pefXl97u",
        "outputId": "de32c211-e6b0-4133-e3dd-76bc4da54c96"
      },
      "execution_count": 44,
      "outputs": [
        {
          "output_type": "stream",
          "name": "stdout",
          "text": [
            "Drive already mounted at /content/drive; to attempt to forcibly remount, call drive.mount(\"/content/drive\", force_remount=True).\n"
          ]
        }
      ]
    },
    {
      "cell_type": "code",
      "source": [
        "file_path = \"/content/drive/MyDrive/Colab/all_data.csv\""
      ],
      "metadata": {
        "id": "NZ-HplPql-6n"
      },
      "execution_count": 45,
      "outputs": []
    },
    {
      "cell_type": "markdown",
      "source": [
        "Read data.\n",
        "\n",
        "df: 4543567 rows"
      ],
      "metadata": {
        "id": "0nKSuwJ4cEIP"
      }
    },
    {
      "cell_type": "code",
      "execution_count": 46,
      "metadata": {
        "id": "WSWoAKCZl30t"
      },
      "outputs": [],
      "source": [
        "import pandas as pd\n",
        "import matplotlib.pyplot as plt"
      ]
    },
    {
      "cell_type": "code",
      "source": [
        "df = pd.read_csv(file_path)\n",
        "df.head()"
      ],
      "metadata": {
        "colab": {
          "base_uri": "https://localhost:8080/",
          "height": 582
        },
        "id": "fs1ecTGgmVDQ",
        "outputId": "53b8ea06-a9d9-4a5a-fdbe-a9e8420fd8ca"
      },
      "execution_count": 47,
      "outputs": [
        {
          "output_type": "execute_result",
          "data": {
            "text/plain": [
              "      type       id subreddit.id subreddit.name  subreddit.nsfw  created_utc  \\\n",
              "0  comment  imlddn9        2qh3l           news           False   1661990368   \n",
              "1  comment  imldbeh        2qn7b           ohio           False   1661990340   \n",
              "2  comment  imldado        2qhma     newzealand           False   1661990327   \n",
              "3  comment  imld6cb        2qi09     sacramento           False   1661990278   \n",
              "4  comment  imld0kj        2qh1i      askreddit           False   1661990206   \n",
              "\n",
              "                                           permalink  sentiment  score  \\\n",
              "0  https://old.reddit.com/r/news/comments/x2cszk/...     0.5719      2   \n",
              "1  https://old.reddit.com/r/Ohio/comments/x2awnp/...    -0.9877      2   \n",
              "2  https://old.reddit.com/r/newzealand/comments/x...    -0.1143      1   \n",
              "3  https://old.reddit.com/r/Sacramento/comments/x...     0.0000      4   \n",
              "4  https://old.reddit.com/r/AskReddit/comments/x2...     0.6634      1   \n",
              "\n",
              "                                        body_cleaned  \n",
              "0  ['yeah', 'abov', 'comment', 'say', 'base', 'wa...  \n",
              "1  ['ani', 'comparison', 'effici', 'solar', 'foss...  \n",
              "2  ['honest', 'wait', 'climat', 'chang', 'impact'...  \n",
              "3  ['sacramento', 'actual', 'happen', 'world', 'c...  \n",
              "4  ['think', 'climat', 'chang', 'tend', 'get', 'p...  "
            ],
            "text/html": [
              "\n",
              "  <div id=\"df-a72c53cf-26f1-44ff-bb64-c87c9e9b16c9\">\n",
              "    <div class=\"colab-df-container\">\n",
              "      <div>\n",
              "<style scoped>\n",
              "    .dataframe tbody tr th:only-of-type {\n",
              "        vertical-align: middle;\n",
              "    }\n",
              "\n",
              "    .dataframe tbody tr th {\n",
              "        vertical-align: top;\n",
              "    }\n",
              "\n",
              "    .dataframe thead th {\n",
              "        text-align: right;\n",
              "    }\n",
              "</style>\n",
              "<table border=\"1\" class=\"dataframe\">\n",
              "  <thead>\n",
              "    <tr style=\"text-align: right;\">\n",
              "      <th></th>\n",
              "      <th>type</th>\n",
              "      <th>id</th>\n",
              "      <th>subreddit.id</th>\n",
              "      <th>subreddit.name</th>\n",
              "      <th>subreddit.nsfw</th>\n",
              "      <th>created_utc</th>\n",
              "      <th>permalink</th>\n",
              "      <th>sentiment</th>\n",
              "      <th>score</th>\n",
              "      <th>body_cleaned</th>\n",
              "    </tr>\n",
              "  </thead>\n",
              "  <tbody>\n",
              "    <tr>\n",
              "      <th>0</th>\n",
              "      <td>comment</td>\n",
              "      <td>imlddn9</td>\n",
              "      <td>2qh3l</td>\n",
              "      <td>news</td>\n",
              "      <td>False</td>\n",
              "      <td>1661990368</td>\n",
              "      <td>https://old.reddit.com/r/news/comments/x2cszk/...</td>\n",
              "      <td>0.5719</td>\n",
              "      <td>2</td>\n",
              "      <td>['yeah', 'abov', 'comment', 'say', 'base', 'wa...</td>\n",
              "    </tr>\n",
              "    <tr>\n",
              "      <th>1</th>\n",
              "      <td>comment</td>\n",
              "      <td>imldbeh</td>\n",
              "      <td>2qn7b</td>\n",
              "      <td>ohio</td>\n",
              "      <td>False</td>\n",
              "      <td>1661990340</td>\n",
              "      <td>https://old.reddit.com/r/Ohio/comments/x2awnp/...</td>\n",
              "      <td>-0.9877</td>\n",
              "      <td>2</td>\n",
              "      <td>['ani', 'comparison', 'effici', 'solar', 'foss...</td>\n",
              "    </tr>\n",
              "    <tr>\n",
              "      <th>2</th>\n",
              "      <td>comment</td>\n",
              "      <td>imldado</td>\n",
              "      <td>2qhma</td>\n",
              "      <td>newzealand</td>\n",
              "      <td>False</td>\n",
              "      <td>1661990327</td>\n",
              "      <td>https://old.reddit.com/r/newzealand/comments/x...</td>\n",
              "      <td>-0.1143</td>\n",
              "      <td>1</td>\n",
              "      <td>['honest', 'wait', 'climat', 'chang', 'impact'...</td>\n",
              "    </tr>\n",
              "    <tr>\n",
              "      <th>3</th>\n",
              "      <td>comment</td>\n",
              "      <td>imld6cb</td>\n",
              "      <td>2qi09</td>\n",
              "      <td>sacramento</td>\n",
              "      <td>False</td>\n",
              "      <td>1661990278</td>\n",
              "      <td>https://old.reddit.com/r/Sacramento/comments/x...</td>\n",
              "      <td>0.0000</td>\n",
              "      <td>4</td>\n",
              "      <td>['sacramento', 'actual', 'happen', 'world', 'c...</td>\n",
              "    </tr>\n",
              "    <tr>\n",
              "      <th>4</th>\n",
              "      <td>comment</td>\n",
              "      <td>imld0kj</td>\n",
              "      <td>2qh1i</td>\n",
              "      <td>askreddit</td>\n",
              "      <td>False</td>\n",
              "      <td>1661990206</td>\n",
              "      <td>https://old.reddit.com/r/AskReddit/comments/x2...</td>\n",
              "      <td>0.6634</td>\n",
              "      <td>1</td>\n",
              "      <td>['think', 'climat', 'chang', 'tend', 'get', 'p...</td>\n",
              "    </tr>\n",
              "  </tbody>\n",
              "</table>\n",
              "</div>\n",
              "      <button class=\"colab-df-convert\" onclick=\"convertToInteractive('df-a72c53cf-26f1-44ff-bb64-c87c9e9b16c9')\"\n",
              "              title=\"Convert this dataframe to an interactive table.\"\n",
              "              style=\"display:none;\">\n",
              "        \n",
              "  <svg xmlns=\"http://www.w3.org/2000/svg\" height=\"24px\"viewBox=\"0 0 24 24\"\n",
              "       width=\"24px\">\n",
              "    <path d=\"M0 0h24v24H0V0z\" fill=\"none\"/>\n",
              "    <path d=\"M18.56 5.44l.94 2.06.94-2.06 2.06-.94-2.06-.94-.94-2.06-.94 2.06-2.06.94zm-11 1L8.5 8.5l.94-2.06 2.06-.94-2.06-.94L8.5 2.5l-.94 2.06-2.06.94zm10 10l.94 2.06.94-2.06 2.06-.94-2.06-.94-.94-2.06-.94 2.06-2.06.94z\"/><path d=\"M17.41 7.96l-1.37-1.37c-.4-.4-.92-.59-1.43-.59-.52 0-1.04.2-1.43.59L10.3 9.45l-7.72 7.72c-.78.78-.78 2.05 0 2.83L4 21.41c.39.39.9.59 1.41.59.51 0 1.02-.2 1.41-.59l7.78-7.78 2.81-2.81c.8-.78.8-2.07 0-2.86zM5.41 20L4 18.59l7.72-7.72 1.47 1.35L5.41 20z\"/>\n",
              "  </svg>\n",
              "      </button>\n",
              "      \n",
              "  <style>\n",
              "    .colab-df-container {\n",
              "      display:flex;\n",
              "      flex-wrap:wrap;\n",
              "      gap: 12px;\n",
              "    }\n",
              "\n",
              "    .colab-df-convert {\n",
              "      background-color: #E8F0FE;\n",
              "      border: none;\n",
              "      border-radius: 50%;\n",
              "      cursor: pointer;\n",
              "      display: none;\n",
              "      fill: #1967D2;\n",
              "      height: 32px;\n",
              "      padding: 0 0 0 0;\n",
              "      width: 32px;\n",
              "    }\n",
              "\n",
              "    .colab-df-convert:hover {\n",
              "      background-color: #E2EBFA;\n",
              "      box-shadow: 0px 1px 2px rgba(60, 64, 67, 0.3), 0px 1px 3px 1px rgba(60, 64, 67, 0.15);\n",
              "      fill: #174EA6;\n",
              "    }\n",
              "\n",
              "    [theme=dark] .colab-df-convert {\n",
              "      background-color: #3B4455;\n",
              "      fill: #D2E3FC;\n",
              "    }\n",
              "\n",
              "    [theme=dark] .colab-df-convert:hover {\n",
              "      background-color: #434B5C;\n",
              "      box-shadow: 0px 1px 3px 1px rgba(0, 0, 0, 0.15);\n",
              "      filter: drop-shadow(0px 1px 2px rgba(0, 0, 0, 0.3));\n",
              "      fill: #FFFFFF;\n",
              "    }\n",
              "  </style>\n",
              "\n",
              "      <script>\n",
              "        const buttonEl =\n",
              "          document.querySelector('#df-a72c53cf-26f1-44ff-bb64-c87c9e9b16c9 button.colab-df-convert');\n",
              "        buttonEl.style.display =\n",
              "          google.colab.kernel.accessAllowed ? 'block' : 'none';\n",
              "\n",
              "        async function convertToInteractive(key) {\n",
              "          const element = document.querySelector('#df-a72c53cf-26f1-44ff-bb64-c87c9e9b16c9');\n",
              "          const dataTable =\n",
              "            await google.colab.kernel.invokeFunction('convertToInteractive',\n",
              "                                                     [key], {});\n",
              "          if (!dataTable) return;\n",
              "\n",
              "          const docLinkHtml = 'Like what you see? Visit the ' +\n",
              "            '<a target=\"_blank\" href=https://colab.research.google.com/notebooks/data_table.ipynb>data table notebook</a>'\n",
              "            + ' to learn more about interactive tables.';\n",
              "          element.innerHTML = '';\n",
              "          dataTable['output_type'] = 'display_data';\n",
              "          await google.colab.output.renderOutput(dataTable, element);\n",
              "          const docLink = document.createElement('div');\n",
              "          docLink.innerHTML = docLinkHtml;\n",
              "          element.appendChild(docLink);\n",
              "        }\n",
              "      </script>\n",
              "    </div>\n",
              "  </div>\n",
              "  "
            ]
          },
          "metadata": {},
          "execution_count": 47
        }
      ]
    },
    {
      "cell_type": "markdown",
      "source": [
        "df_new : 709237 rows"
      ],
      "metadata": {
        "id": "yo9mHEvD-N0q"
      }
    },
    {
      "cell_type": "code",
      "source": [
        "df['climate_count'] = df['body_cleaned'].apply(lambda x: x.count('climat'))\n",
        "df['change_count'] = df['body_cleaned'].apply(lambda x: x.count('chang'))\n",
        "df['body_length'] = df['body_cleaned'].apply(lambda x: len(x))\n",
        "df['climate_proportion'] = df['climate_count']/df['body_length']\n",
        "df['change_proportion'] = df['change_count']/df['body_length']\n",
        "\n",
        "df_new = df[(df['climate_proportion'] > 0.0001) & (df['change_proportion'] > 0.0001) & (df['climate_count'] >= 2) & (df['change_count'] >= 2)]"
      ],
      "metadata": {
        "id": "2M4opdf19c5G"
      },
      "execution_count": 48,
      "outputs": []
    },
    {
      "cell_type": "markdown",
      "source": [
        "Distribution"
      ],
      "metadata": {
        "id": "7YSsjUA6fV0j"
      }
    },
    {
      "cell_type": "code",
      "source": [
        "df_new['created_utc'] = pd.to_datetime(df_new['created_utc'], unit='s')\n",
        "df_new.created_utc.describe()"
      ],
      "metadata": {
        "colab": {
          "base_uri": "https://localhost:8080/"
        },
        "id": "uIyP5efFeooG",
        "outputId": "ad340a6e-21b3-4af7-a8a0-7fff3ebc711a"
      },
      "execution_count": 49,
      "outputs": [
        {
          "output_type": "stream",
          "name": "stderr",
          "text": [
            "<ipython-input-49-4f1ccfb4a46e>:1: SettingWithCopyWarning: \n",
            "A value is trying to be set on a copy of a slice from a DataFrame.\n",
            "Try using .loc[row_indexer,col_indexer] = value instead\n",
            "\n",
            "See the caveats in the documentation: https://pandas.pydata.org/pandas-docs/stable/user_guide/indexing.html#returning-a-view-versus-a-copy\n",
            "  df_new['created_utc'] = pd.to_datetime(df_new['created_utc'], unit='s')\n",
            "<ipython-input-49-4f1ccfb4a46e>:2: FutureWarning: Treating datetime data as categorical rather than numeric in `.describe` is deprecated and will be removed in a future version of pandas. Specify `datetime_is_numeric=True` to silence this warning and adopt the future behavior now.\n",
            "  df_new.created_utc.describe()\n"
          ]
        },
        {
          "output_type": "execute_result",
          "data": {
            "text/plain": [
              "count                  709237\n",
              "unique                 707345\n",
              "top       2019-01-08 15:52:07\n",
              "freq                        5\n",
              "first     2010-01-01 00:34:07\n",
              "last      2022-08-31 23:54:25\n",
              "Name: created_utc, dtype: object"
            ]
          },
          "metadata": {},
          "execution_count": 49
        }
      ]
    },
    {
      "cell_type": "markdown",
      "source": [
        "By year"
      ],
      "metadata": {
        "id": "fwxoakCJeSa5"
      }
    },
    {
      "cell_type": "code",
      "source": [
        "df_new['created_utc'].dt.year.hist(bins=13)\n",
        "\n",
        "plt.title('Histogram of Comments by Year')\n",
        "plt.xlabel('Year')\n",
        "plt.ylabel('Number of Comments')\n",
        "\n",
        "plt.savefig(\"comments_by_year\")\n",
        "plt.show()"
      ],
      "metadata": {
        "colab": {
          "base_uri": "https://localhost:8080/",
          "height": 350
        },
        "id": "EXbq2gkGq6xa",
        "outputId": "c5b10490-4637-4d8e-ae4c-8d932a6b8c32"
      },
      "execution_count": 56,
      "outputs": [
        {
          "output_type": "stream",
          "name": "stderr",
          "text": [
            "<ipython-input-56-15bb1e2ff9f8>:3: MatplotlibDeprecationWarning: The seaborn styles shipped by Matplotlib are deprecated since 3.6, as they no longer correspond to the styles shipped by seaborn. However, they will remain available as 'seaborn-v0_8-<style>'. Alternatively, directly use the seaborn API instead.\n",
            "  plt.style.use('seaborn-white')\n"
          ]
        },
        {
          "output_type": "display_data",
          "data": {
            "text/plain": [
              "<Figure size 432x288 with 1 Axes>"
            ],
            "image/png": "[encoded data removed]"
          },
          "metadata": {}
        }
      ]
    },
    {
      "cell_type": "markdown",
      "source": [
        "By month"
      ],
      "metadata": {
        "id": "0eIsQ3psfTGI"
      }
    },
    {
      "cell_type": "code",
      "source": [
        "import numpy as np\n",
        "import calendar\n",
        "\n",
        "m = np.zeros((12, 13))\n",
        "for i in range(12):\n",
        "    for j in range(13):\n",
        "        year = 2010 + j\n",
        "        if year == 2022 and i >= 9:\n",
        "            break\n",
        "        m[i, j] = df_new[(df_new['created_utc'].dt.year == year) & (df_new['created_utc'].dt.month == i+1)].shape[0]\n",
        "\n",
        "fig, ax = plt.subplots(figsize=(10, 6))\n",
        "plt.style.use('seaborn-white')\n",
        "ax.imshow(m, cmap=plt.cm.YlOrRd, interpolation='nearest', aspect='auto')\n",
        "\n",
        "ax.set_xticks(np.arange(13))\n",
        "ax.set_yticks(np.arange(12))\n",
        "ax.set_xticklabels([str(x) for x in range(2010, 2023)])\n",
        "ax.set_yticklabels(calendar.month_name[1:])\n",
        "\n",
        "plt.xlabel('Year')\n",
        "plt.ylabel('Month')\n",
        "plt.title('Periodogram of comments')\n",
        "plt.savefig(\"comments_by_month\")\n",
        "plt.show()\n"
      ],
      "metadata": {
        "colab": {
          "base_uri": "https://localhost:8080/",
          "height": 456
        },
        "id": "j3_SzissvBOr",
        "outputId": "8b20a644-c654-4bb0-e431-fc790b39e745"
      },
      "execution_count": 57,
      "outputs": [
        {
          "output_type": "stream",
          "name": "stderr",
          "text": [
            "<ipython-input-57-91ef028adb3e>:14: MatplotlibDeprecationWarning: The seaborn styles shipped by Matplotlib are deprecated since 3.6, as they no longer correspond to the styles shipped by seaborn. However, they will remain available as 'seaborn-v0_8-<style>'. Alternatively, directly use the seaborn API instead.\n",
            "  plt.style.use('seaborn-white')\n"
          ]
        },
        {
          "output_type": "display_data",
          "data": {
            "text/plain": [
              "<Figure size 720x432 with 1 Axes>"
            ],
            "image/png": "[encoded data removed]"
          },
          "metadata": {}
        }
      ]
    },
    {
      "cell_type": "markdown",
      "source": [
        "Correlation with 'sentiment'"
      ],
      "metadata": {
        "id": "Y49Pw1kqeAjw"
      }
    },
    {
      "cell_type": "code",
      "source": [
        "\n",
        "sns.set_style(\"whitegrid\")\n",
        "\n",
        "counts_df = df_new.groupby([pd.Grouper(key='created_utc', freq='M'), 'sentiment']).size().reset_index(name='count')\n",
        "\n",
        "sns.lineplot(x='created_utc', y='count', hue='sentiment', data=counts_df)\n",
        "\n",
        "plt.xlabel('Year')\n",
        "plt.ylabel('Number of comments')\n",
        "plt.savefig(\"time_sentiment_correlation\")\n",
        "plt.show()"
      ],
      "metadata": {
        "colab": {
          "base_uri": "https://localhost:8080/",
          "height": 279
        },
        "id": "rWBeMXrmpFv8",
        "outputId": "fe05b757-74ad-4ac7-95b3-7d689d531949"
      },
      "execution_count": 54,
      "outputs": [
        {
          "output_type": "display_data",
          "data": {
            "text/plain": [
              "<Figure size 432x288 with 1 Axes>"
            ],
            "image/png": "[encoded data removed]"
          },
          "metadata": {}
        }
      ]
    }
  ]
}
