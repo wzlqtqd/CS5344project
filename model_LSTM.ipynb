{
 "cells": [
  {
   "cell_type": "code",
   "execution_count": 13,
   "id": "d933a16e",
   "metadata": {
    "executionInfo": {
     "elapsed": 1492,
     "status": "ok",
     "timestamp": 1681470707256,
     "user": {
      "displayName": "Avalon Wood",
      "userId": "07940190540561300374"
     },
     "user_tz": -480
    },
    "id": "d933a16e",
    "scrolled": true
   },
   "outputs": [
    {
     "name": "stderr",
     "output_type": "stream",
     "text": [
      "/Users/zhangyuchen/miniforge3/envs/yuki/lib/python3.8/site-packages/scipy/__init__.py:146: UserWarning: A NumPy version >=1.16.5 and <1.23.0 is required for this version of SciPy (detected version 1.24.2\n",
      "  warnings.warn(f\"A NumPy version >={np_minversion} and <{np_maxversion}\"\n"
     ]
    }
   ],
   "source": [
    "import random\n",
    "import numpy as np\n",
    "import pandas as pd\n",
    "random.seed(42)\n",
    "np.random.seed(42)\n",
    "\n",
    "import nltk\n",
    "from nltk.corpus import stopwords\n",
    "from nltk.tokenize import word_tokenize\n",
    "from sklearn.model_selection import train_test_split\n",
    "from sklearn.svm import SVC\n",
    "from sklearn.metrics import accuracy_score\n",
    "import matplotlib.pyplot as plt\n",
    "from sklearn.metrics import classification_report"
   ]
  },
  {
   "cell_type": "code",
   "execution_count": 2,
   "id": "6d3a93cd",
   "metadata": {
    "colab": {
     "base_uri": "https://localhost:8080/"
    },
    "executionInfo": {
     "elapsed": 4711,
     "status": "ok",
     "timestamp": 1681470711964,
     "user": {
      "displayName": "Avalon Wood",
      "userId": "07940190540561300374"
     },
     "user_tz": -480
    },
    "id": "6d3a93cd",
    "outputId": "74c6917d-4aa8-4d12-c2b4-831bbb0ad476"
   },
   "outputs": [
    {
     "name": "stdout",
     "output_type": "stream",
     "text": [
      "Drive already mounted at /content/drive; to attempt to forcibly remount, call drive.mount(\"/content/drive\", force_remount=True).\n"
     ]
    }
   ],
   "source": [
    "#https://www.embedded-robotics.com/sentiment-analysis-using-lstm/\n",
    "from google.colab import drive\n",
    "drive.mount('/content/drive')"
   ]
  },
  {
   "cell_type": "code",
   "execution_count": 3,
   "id": "157e020e",
   "metadata": {
    "colab": {
     "base_uri": "https://localhost:8080/",
     "height": 53
    },
    "executionInfo": {
     "elapsed": 7,
     "status": "ok",
     "timestamp": 1681470711965,
     "user": {
      "displayName": "Avalon Wood",
      "userId": "07940190540561300374"
     },
     "user_tz": -480
    },
    "id": "157e020e",
    "outputId": "e4b349ac-d3d6-4151-b17e-2c421d382c1d"
   },
   "outputs": [
    {
     "data": {
      "application/vnd.google.colaboratory.intrinsic+json": {
       "type": "string"
      },
      "text/plain": [
       "'\\n# read original dataset\\ndata_path = \\'data/convincing_data.csv\\'\\ndata = pd.read_csv(data_path)\\ndata[\\'body_cleaned\\'] = data[\\'body_cleaned\\'].apply(lambda x: x.strip(\\'[]\\').replace(\"\\'\",\\'\\').split(\\', \\'))\\ndata [\\'text\\'] = data[\\'body_cleaned\\'].apply(lambda x: \\' \\'.join(x))\\n'"
      ]
     },
     "execution_count": 3,
     "metadata": {},
     "output_type": "execute_result"
    }
   ],
   "source": [
    "# read original dataset\n",
    "data_path = 'data/convincing_data.csv'\n",
    "data = pd.read_csv(data_path)\n",
    "data['body_cleaned'] = data['body_cleaned'].apply(lambda x: x.strip('[]').replace(\"'\",'').split(', '))\n",
    "data ['text'] = data['body_cleaned'].apply(lambda x: ' '.join(x))\n"
   ]
  },
  {
   "cell_type": "code",
   "execution_count": 4,
   "id": "d5d15362",
   "metadata": {
    "colab": {
     "base_uri": "https://localhost:8080/",
     "height": 35
    },
    "executionInfo": {
     "elapsed": 6,
     "status": "ok",
     "timestamp": 1681470711965,
     "user": {
      "displayName": "Avalon Wood",
      "userId": "07940190540561300374"
     },
     "user_tz": -480
    },
    "id": "d5d15362",
    "outputId": "692fee4a-de6f-4ac0-a379-fadbfa4273eb"
   },
   "outputs": [
    {
     "data": {
      "application/vnd.google.colaboratory.intrinsic+json": {
       "type": "string"
      },
      "text/plain": [
       "\"\\n# save new dataset\\ndata[['id','text','score','body_length','sentiment']].to_csv('text.csv')\\n\""
      ]
     },
     "execution_count": 4,
     "metadata": {},
     "output_type": "execute_result"
    }
   ],
   "source": [
    "# save new dataset\n",
    "data[['id','text','score','body_length','sentiment']].to_csv('text.csv')\n"
   ]
  },
  {
   "cell_type": "code",
   "execution_count": 5,
   "id": "0e7374f0",
   "metadata": {
    "executionInfo": {
     "elapsed": 7154,
     "status": "ok",
     "timestamp": 1681470719114,
     "user": {
      "displayName": "Avalon Wood",
      "userId": "07940190540561300374"
     },
     "user_tz": -480
    },
    "id": "0e7374f0"
   },
   "outputs": [],
   "source": [
    "# OR directly read reprocessed dataset\n",
    "data_path = '/content/drive/MyDrive/dataset/text.csv'\n",
    "data = pd.read_csv(data_path)"
   ]
  },
  {
   "cell_type": "code",
   "execution_count": 6,
   "id": "26ec1c6d",
   "metadata": {
    "executionInfo": {
     "elapsed": 1854,
     "status": "ok",
     "timestamp": 1681470720959,
     "user": {
      "displayName": "Avalon Wood",
      "userId": "07940190540561300374"
     },
     "user_tz": -480
    },
    "id": "26ec1c6d"
   },
   "outputs": [],
   "source": [
    "# prob -> label\n",
    "# 0:neg, 1:pos, 2:neu\n",
    "def score_label(score):\n",
    "    if score > 1/3: return 1\n",
    "    elif score < -1/3: return 0\n",
    "    else: return 2\n",
    "data['sentiment'] = data['sentiment'].apply(lambda x: score_label(x))"
   ]
  },
  {
   "cell_type": "code",
   "execution_count": 10,
   "id": "3c6d067b",
   "metadata": {
    "executionInfo": {
     "elapsed": 3,
     "status": "ok",
     "timestamp": 1681470720960,
     "user": {
      "displayName": "Avalon Wood",
      "userId": "07940190540561300374"
     },
     "user_tz": -480
    },
    "id": "3c6d067b"
   },
   "outputs": [],
   "source": [
    "X_train, X_test, y_train, y_test = train_test_split(data['text'], data['sentiment'], test_size=0.1, random_state=42)\n"
   ]
  },
  {
   "cell_type": "code",
   "execution_count": 11,
   "id": "5d144ee5",
   "metadata": {
    "colab": {
     "base_uri": "https://localhost:8080/"
    },
    "executionInfo": {
     "elapsed": 75894,
     "status": "ok",
     "timestamp": 1681470796851,
     "user": {
      "displayName": "Avalon Wood",
      "userId": "07940190540561300374"
     },
     "user_tz": -480
    },
    "id": "5d144ee5",
    "outputId": "3c390c21-63f1-41b7-be8a-3390f29be32e"
   },
   "outputs": [
    {
     "name": "stdout",
     "output_type": "stream",
     "text": [
      "Number of Documents:  638313\n",
      "Number of Words:  10000\n"
     ]
    }
   ],
   "source": [
    "from keras.preprocessing.text import Tokenizer\n",
    "from tensorflow.keras.preprocessing.sequence import pad_sequences\n",
    "\n",
    "vocab_size = 10000\n",
    "tokenizer = Tokenizer(num_words=vocab_size, split=' ')\n",
    "tokenizer.fit_on_texts(X_train)\n",
    "print(\"Number of Documents: \", tokenizer.document_count)\n",
    "print(\"Number of Words: \", tokenizer.num_words)"
   ]
  },
  {
   "cell_type": "code",
   "execution_count": 12,
   "id": "90a472aa",
   "metadata": {
    "executionInfo": {
     "elapsed": 49890,
     "status": "ok",
     "timestamp": 1681470846739,
     "user": {
      "displayName": "Avalon Wood",
      "userId": "07940190540561300374"
     },
     "user_tz": -480
    },
    "id": "90a472aa"
   },
   "outputs": [],
   "source": [
    "sequence_length = 1000\n",
    "\n",
    "train_sequences = tokenizer.texts_to_sequences(X_train)\n",
    "X_train = pad_sequences(train_sequences, maxlen=sequence_length, padding='post', truncating='post')\n",
    "\n",
    "test_sequences = tokenizer.texts_to_sequences(X_test)\n",
    "X_test = pad_sequences(test_sequences, maxlen=sequence_length, padding='post', truncating='post')"
   ]
  },
  {
   "cell_type": "markdown",
   "id": "dc6efefc",
   "metadata": {
    "id": "dc6efefc"
   },
   "source": [
    "# Modelling"
   ]
  },
  {
   "cell_type": "code",
   "execution_count": 13,
   "id": "4b13f595",
   "metadata": {
    "executionInfo": {
     "elapsed": 10,
     "status": "ok",
     "timestamp": 1681470846739,
     "user": {
      "displayName": "Avalon Wood",
      "userId": "07940190540561300374"
     },
     "user_tz": -480
    },
    "id": "4b13f595"
   },
   "outputs": [],
   "source": [
    "# y -> one hot\n",
    "from keras.utils import to_categorical\n",
    "y_train = to_categorical(y_train)"
   ]
  },
  {
   "cell_type": "code",
   "execution_count": 14,
   "id": "dd67835d",
   "metadata": {
    "executionInfo": {
     "elapsed": 1378,
     "status": "ok",
     "timestamp": 1681470848108,
     "user": {
      "displayName": "Avalon Wood",
      "userId": "07940190540561300374"
     },
     "user_tz": -480
    },
    "id": "dd67835d"
   },
   "outputs": [],
   "source": [
    "# split train & validation\n",
    "# X_train, X_val, y_train, y_val = train_test_split(X_train, y_train, test_size=0.1, random_state=42)"
   ]
  },
  {
   "cell_type": "code",
   "execution_count": 15,
   "id": "e0874080",
   "metadata": {
    "colab": {
     "base_uri": "https://localhost:8080/"
    },
    "executionInfo": {
     "elapsed": 4323,
     "status": "ok",
     "timestamp": 1681470852430,
     "user": {
      "displayName": "Avalon Wood",
      "userId": "07940190540561300374"
     },
     "user_tz": -480
    },
    "id": "e0874080",
    "outputId": "3a33f7a3-ccb2-4037-b780-45805e79d631"
   },
   "outputs": [
    {
     "name": "stdout",
     "output_type": "stream",
     "text": [
      "Model: \"sequential\"\n",
      "_________________________________________________________________\n",
      " Layer (type)                Output Shape              Param #   \n",
      "=================================================================\n",
      " embedding (Embedding)       (None, 1000, 16)          160000    \n",
      "                                                                 \n",
      " bidirectional (Bidirectiona  (None, 256)              148480    \n",
      " l)                                                              \n",
      "                                                                 \n",
      " dense (Dense)               (None, 3)                 771       \n",
      "                                                                 \n",
      "=================================================================\n",
      "Total params: 309,251\n",
      "Trainable params: 309,251\n",
      "Non-trainable params: 0\n",
      "_________________________________________________________________\n",
      "None\n"
     ]
    }
   ],
   "source": [
    "from keras.models import Sequential\n",
    "from keras.layers import Embedding, LSTM, Dense, Dropout, Bidirectional\n",
    "embedding_dim = 16\n",
    "lstm_out = 128\n",
    "\n",
    "model = Sequential()\n",
    "model.add(Embedding(vocab_size, embedding_dim, input_length=sequence_length))\n",
    "model.add(Bidirectional(LSTM(lstm_out)))\n",
    "model.add(Dense(3, activation='softmax'))\n",
    "model.compile(loss='categorical_crossentropy', optimizer='SGD', metrics=['accuracy'])\n",
    "\n",
    "print(model.summary())"
   ]
  },
  {
   "cell_type": "code",
   "execution_count": null,
   "id": "0664a577",
   "metadata": {},
   "outputs": [],
   "source": [
    "model.add(Embedding (vocab size, 128, input_length=max len))\n",
    "model.add(SpatialDropout1D(0.25))model BORU.add(Bidirectional(GRU(64, dropout=0.3,return_ sequences = True, kernel regularizer=[2(0.005))))model BGRU.add(Bidirectional (GRU(32,dropout=0.2)))\n",
    "model.add (Dense(3. activation=' softmax'))\n",
    "model.compile(loss='categorical crossentropy'.optimizer='adam', metrics=['accuracy'])\n",
    "model.summary()\n",
    "model.fit(X train, y_train, epochs=50, batch size=128, validation split=0.1, callbacks = required callbacks)"
   ]
  },
  {
   "cell_type": "code",
   "execution_count": 16,
   "id": "75f24baf",
   "metadata": {
    "colab": {
     "base_uri": "https://localhost:8080/"
    },
    "executionInfo": {
     "elapsed": 3865154,
     "status": "ok",
     "timestamp": 1681474717574,
     "user": {
      "displayName": "Avalon Wood",
      "userId": "07940190540561300374"
     },
     "user_tz": -480
    },
    "id": "75f24baf",
    "outputId": "55402f2e-424a-405e-e65c-bdab16439d7b"
   },
   "outputs": [
    {
     "name": "stdout",
     "output_type": "stream",
     "text": [
      "Epoch 1/8\n",
      "4489/4489 [==============================] - 533s 117ms/step - loss: 1.0321 - accuracy: 0.4202 - val_loss: 1.0291 - val_accuracy: 0.4184\n",
      "Epoch 2/8\n",
      "4489/4489 [==============================] - 472s 105ms/step - loss: 1.0306 - accuracy: 0.4248 - val_loss: 1.0278 - val_accuracy: 0.4261\n",
      "Epoch 3/8\n",
      "4489/4489 [==============================] - 471s 105ms/step - loss: 1.0107 - accuracy: 0.4450 - val_loss: 0.9832 - val_accuracy: 0.4630\n",
      "Epoch 4/8\n",
      "4489/4489 [==============================] - 473s 105ms/step - loss: 0.9846 - accuracy: 0.4632 - val_loss: 0.9802 - val_accuracy: 0.4663\n",
      "Epoch 5/8\n",
      "4489/4489 [==============================] - 469s 104ms/step - loss: 0.9816 - accuracy: 0.4699 - val_loss: 0.9750 - val_accuracy: 0.4770\n",
      "Epoch 6/8\n",
      "4489/4489 [==============================] - 468s 104ms/step - loss: 0.9744 - accuracy: 0.4917 - val_loss: 1.0203 - val_accuracy: 0.4350\n",
      "Epoch 7/8\n",
      "4489/4489 [==============================] - 476s 106ms/step - loss: 0.9378 - accuracy: 0.5508 - val_loss: 0.8771 - val_accuracy: 0.5995\n",
      "Epoch 8/8\n",
      "4489/4489 [==============================] - 477s 106ms/step - loss: 0.8468 - accuracy: 0.6288 - val_loss: 0.7692 - val_accuracy: 0.6781\n"
     ]
    }
   ],
   "source": [
    "# Train model\n",
    "batch_size = 128\n",
    "epochs = 8\n",
    "history = model.fit(X_train, y_train, batch_size=batch_size, epochs=epochs, validation_data=(X_val, y_val))\n"
   ]
  },
  {
   "cell_type": "code",
   "execution_count": 17,
   "id": "7fb223bc",
   "metadata": {
    "colab": {
     "base_uri": "https://localhost:8080/"
    },
    "executionInfo": {
     "elapsed": 83328,
     "status": "ok",
     "timestamp": 1681474800752,
     "user": {
      "displayName": "Avalon Wood",
      "userId": "07940190540561300374"
     },
     "user_tz": -480
    },
    "id": "7fb223bc",
    "outputId": "56b675cd-6205-4a01-e781-765ac59548b3"
   },
   "outputs": [
    {
     "name": "stdout",
     "output_type": "stream",
     "text": [
      "2217/2217 [==============================] - 53s 23ms/step\n"
     ]
    }
   ],
   "source": [
    "# get y_pred\n",
    "# y_pred = model.predict_classes(X_test)\n",
    "y_pred = model.predict(X_test)\n",
    "y_pred = np.argmax(y_pred, axis=1)"
   ]
  },
  {
   "cell_type": "code",
   "execution_count": 18,
   "id": "4ee73b60",
   "metadata": {
    "executionInfo": {
     "elapsed": 24,
     "status": "ok",
     "timestamp": 1681474800753,
     "user": {
      "displayName": "Avalon Wood",
      "userId": "07940190540561300374"
     },
     "user_tz": -480
    },
    "id": "4ee73b60"
   },
   "outputs": [],
   "source": [
    "from sklearn.metrics import accuracy_score, precision_score, recall_score, f1_score\n",
    "def evaluation(y, y_pred):\n",
    "    accuracy = accuracy_score(y, y_pred)\n",
    "    precision = precision_score(y, y_pred, average='weighted')\n",
    "    recall = recall_score(y, y_pred, average='weighted')\n",
    "    f1 = f1_score(y, y_pred, average='weighted')\n",
    "    return accuracy, precision, recall, f1"
   ]
  },
  {
   "cell_type": "code",
   "execution_count": 19,
   "id": "74d2c240",
   "metadata": {
    "colab": {
     "base_uri": "https://localhost:8080/"
    },
    "executionInfo": {
     "elapsed": 21,
     "status": "ok",
     "timestamp": 1681474800753,
     "user": {
      "displayName": "Avalon Wood",
      "userId": "07940190540561300374"
     },
     "user_tz": -480
    },
    "id": "74d2c240",
    "outputId": "08165716-a391-4777-dc95-a24e631bc160"
   },
   "outputs": [
    {
     "name": "stdout",
     "output_type": "stream",
     "text": [
      "Accuracy, Precision, Recall, F1: (0.6796993965371384, 0.666886201785649, 0.6796993965371384, 0.6514779032458422)\n"
     ]
    }
   ],
   "source": [
    "print('Accuracy, Precision, Recall, F1:', evaluation(y_test, y_pred))"
   ]
  },
  {
   "cell_type": "code",
   "execution_count": 20,
   "id": "Ufd--8p0I-DF",
   "metadata": {
    "executionInfo": {
     "elapsed": 5,
     "status": "ok",
     "timestamp": 1681474800753,
     "user": {
      "displayName": "Avalon Wood",
      "userId": "07940190540561300374"
     },
     "user_tz": -480
    },
    "id": "Ufd--8p0I-DF"
   },
   "outputs": [],
   "source": [
    "pd.Series(y_test).to_csv('/content/drive/MyDrive/dataset/LSTM_true.csv', index=False, header=False)\n",
    "pd.Series(y_pred).to_csv('/content/drive/MyDrive/dataset/LSTM_predict.csv', index=False, header=False)"
   ]
  },
  {
   "cell_type": "markdown",
   "id": "dd8870fd",
   "metadata": {
    "id": "dd8870fd"
   },
   "source": [
    "## plot"
   ]
  },
  {
   "cell_type": "code",
   "execution_count": 21,
   "id": "34e4b83c",
   "metadata": {
    "executionInfo": {
     "elapsed": 5,
     "status": "ok",
     "timestamp": 1681474800754,
     "user": {
      "displayName": "Avalon Wood",
      "userId": "07940190540561300374"
     },
     "user_tz": -480
    },
    "id": "34e4b83c"
   },
   "outputs": [],
   "source": [
    "metrics_df = pd.DataFrame(history.history)\n",
    "train_loss = metrics_df.loss\n",
    "val_loss = metrics_df.val_loss\n",
    "train_acc = metrics_df.accuracy\n",
    "val_acc = metrics_df.val_accuracy\n",
    "epochs = metrics_df.index\n",
    "\n",
    "method = 'LSTM method' #method name"
   ]
  },
  {
   "cell_type": "markdown",
   "id": "d0a79a22",
   "metadata": {},
   "source": [
    "train_loss = [1.0321,1.0306,1.0107,0.9846,0.9846,0.9816,0.9378,0.8468]\n",
    "\n",
    "val_loss = [1.0291,1.0278,0.9832,0.9802,0.9750,1.0203,0.8771,0.7692]\n",
    "\n",
    "train_acc = [0.4202,0.4248,0.4450,0.4632,0.4699,0.4917,0.5508,0.6288]\n",
    "\n",
    "val_acc = [0.4184,0.4261,0.4630,0.4663,0.4770,0.4350,0.5995,0.6781]"
   ]
  },
  {
   "cell_type": "code",
   "execution_count": 15,
   "id": "3d92e268",
   "metadata": {
    "colab": {
     "base_uri": "https://localhost:8080/",
     "height": 458
    },
    "executionInfo": {
     "elapsed": 986,
     "status": "ok",
     "timestamp": 1681474801735,
     "user": {
      "displayName": "Avalon Wood",
      "userId": "07940190540561300374"
     },
     "user_tz": -480
    },
    "id": "3d92e268",
    "outputId": "ebac530f-759a-413f-978b-b6d030b56e49"
   },
   "outputs": [
    {
     "data": {
      "image/png": "[encoded data removed]",
      "text/plain": [
       "<Figure size 432x324 with 1 Axes>"
      ]
     },
     "metadata": {
      "needs_background": "light"
     },
     "output_type": "display_data"
    }
   ],
   "source": [
    "plt.figure(figsize=(6, 4.5))\n",
    "plt.grid(linestyle=\"-\")  \n",
    "ax = plt.gca()\n",
    "plt.plot(epochs, train_loss, color=\"#0DAB76\", label=\"Train Loss\", linewidth=1.5)\n",
    "plt.plot(epochs, val_loss, color=\"#F487B6\", label=\"Validation Loss\", linewidth=1.5)\n",
    "plt.xticks(fontsize=14)\n",
    "plt.yticks(fontsize=14)\n",
    "plt.ylabel(\"Loss\", fontsize=12)\n",
    "plt.xlabel(\"#Epochs\", fontsize=12)\n",
    "\n",
    "plt.legend(loc=0, numpoints=1)\n",
    "leg = plt.gca().get_legend()\n",
    "ltext = leg.get_texts()\n",
    "plt.setp(ltext, fontsize=12) \n",
    "\n",
    "plt.title(method + ' Loss')\n",
    "\n",
    "plt.savefig('./' + method + '_loss.pdf', format='pdf')  # save as pdf, then screen capture\n",
    "plt.show()"
   ]
  },
  {
   "cell_type": "code",
   "execution_count": 18,
   "id": "2864ffb9",
   "metadata": {
    "colab": {
     "base_uri": "https://localhost:8080/",
     "height": 458
    },
    "executionInfo": {
     "elapsed": 20,
     "status": "ok",
     "timestamp": 1681474801736,
     "user": {
      "displayName": "Avalon Wood",
      "userId": "07940190540561300374"
     },
     "user_tz": -480
    },
    "id": "2864ffb9",
    "outputId": "6615512f-f68b-487d-ba49-037af9f8bf41"
   },
   "outputs": [
    {
     "data": {
      "image/png": "[encoded data removed]",
      "text/plain": [
       "<Figure size 432x324 with 1 Axes>"
      ]
     },
     "metadata": {
      "needs_background": "light"
     },
     "output_type": "display_data"
    }
   ],
   "source": [
    "plt.figure(figsize=(6, 4.5))\n",
    "plt.grid(linestyle=\"-\")  \n",
    "ax = plt.gca()\n",
    "plt.plot(epochs, train_acc, color=\"#0DAB76\", label=\"Train Accuracy\", linewidth=1.5)\n",
    "plt.plot(epochs, val_acc, color=\"#F487B6\", label=\"Validation Accuracy\", linewidth=1.5)\n",
    "plt.xticks(fontsize=14)\n",
    "plt.yticks(fontsize=14)\n",
    "plt.ylabel(\"Accuracy\", fontsize=12)\n",
    "plt.xlabel(\"#Epochs\", fontsize=12)\n",
    "\n",
    "plt.legend(loc=0, numpoints=1)\n",
    "leg = plt.gca().get_legend()\n",
    "ltext = leg.get_texts()\n",
    "plt.setp(ltext, fontsize=12) \n",
    "\n",
    "plt.title(method + ' Accuracy')\n",
    "\n",
    "plt.savefig('./'+method+'_acc.pdf', format='pdf')  # save as pdf, then screen capture\n",
    "plt.show()"
   ]
  },
  {
   "cell_type": "code",
   "execution_count": 24,
   "id": "9b0ea6f3",
   "metadata": {
    "colab": {
     "base_uri": "https://localhost:8080/",
     "height": 859
    },
    "executionInfo": {
     "elapsed": 3454,
     "status": "ok",
     "timestamp": 1681474805172,
     "user": {
      "displayName": "Avalon Wood",
      "userId": "07940190540561300374"
     },
     "user_tz": -480
    },
    "id": "9b0ea6f3",
    "outputId": "1e87b1ef-149d-4f8c-c110-05d9d3dc47e6"
   },
   "outputs": [
    {
     "name": "stdout",
     "output_type": "stream",
     "text": [
      "Looking in indexes: https://pypi.org/simple, https://us-python.pkg.dev/colab-wheels/public/simple/\n",
      "Requirement already satisfied: scikit-plot in /usr/local/lib/python3.9/dist-packages (0.3.7)\n",
      "Requirement already satisfied: joblib>=0.10 in /usr/local/lib/python3.9/dist-packages (from scikit-plot) (1.2.0)\n",
      "Requirement already satisfied: scikit-learn>=0.18 in /usr/local/lib/python3.9/dist-packages (from scikit-plot) (1.2.2)\n",
      "Requirement already satisfied: matplotlib>=1.4.0 in /usr/local/lib/python3.9/dist-packages (from scikit-plot) (3.7.1)\n",
      "Requirement already satisfied: scipy>=0.9 in /usr/local/lib/python3.9/dist-packages (from scikit-plot) (1.10.1)\n",
      "Requirement already satisfied: fonttools>=4.22.0 in /usr/local/lib/python3.9/dist-packages (from matplotlib>=1.4.0->scikit-plot) (4.39.3)\n",
      "Requirement already satisfied: python-dateutil>=2.7 in /usr/local/lib/python3.9/dist-packages (from matplotlib>=1.4.0->scikit-plot) (2.8.2)\n",
      "Requirement already satisfied: pillow>=6.2.0 in /usr/local/lib/python3.9/dist-packages (from matplotlib>=1.4.0->scikit-plot) (8.4.0)\n",
      "Requirement already satisfied: importlib-resources>=3.2.0 in /usr/local/lib/python3.9/dist-packages (from matplotlib>=1.4.0->scikit-plot) (5.12.0)\n",
      "Requirement already satisfied: contourpy>=1.0.1 in /usr/local/lib/python3.9/dist-packages (from matplotlib>=1.4.0->scikit-plot) (1.0.7)\n",
      "Requirement already satisfied: cycler>=0.10 in /usr/local/lib/python3.9/dist-packages (from matplotlib>=1.4.0->scikit-plot) (0.11.0)\n",
      "Requirement already satisfied: numpy>=1.20 in /usr/local/lib/python3.9/dist-packages (from matplotlib>=1.4.0->scikit-plot) (1.22.4)\n",
      "Requirement already satisfied: packaging>=20.0 in /usr/local/lib/python3.9/dist-packages (from matplotlib>=1.4.0->scikit-plot) (23.0)\n",
      "Requirement already satisfied: kiwisolver>=1.0.1 in /usr/local/lib/python3.9/dist-packages (from matplotlib>=1.4.0->scikit-plot) (1.4.4)\n",
      "Requirement already satisfied: pyparsing>=2.3.1 in /usr/local/lib/python3.9/dist-packages (from matplotlib>=1.4.0->scikit-plot) (3.0.9)\n",
      "Requirement already satisfied: threadpoolctl>=2.0.0 in /usr/local/lib/python3.9/dist-packages (from scikit-learn>=0.18->scikit-plot) (3.1.0)\n",
      "Requirement already satisfied: zipp>=3.1.0 in /usr/local/lib/python3.9/dist-packages (from importlib-resources>=3.2.0->matplotlib>=1.4.0->scikit-plot) (3.15.0)\n",
      "Requirement already satisfied: six>=1.5 in /usr/local/lib/python3.9/dist-packages (from python-dateutil>=2.7->matplotlib>=1.4.0->scikit-plot) (1.16.0)\n"
     ]
    },
    {
     "data": {
      "text/plain": [
       "<Axes: title={'center': 'Confusion Matrix'}, xlabel='Predicted label', ylabel='True label'>"
      ]
     },
     "execution_count": 24,
     "metadata": {},
     "output_type": "execute_result"
    },
    {
     "data": {
      "image/png": "[encoded data removed]",
      "text/plain": [
       "<Figure size 600x600 with 2 Axes>"
      ]
     },
     "metadata": {},
     "output_type": "display_data"
    }
   ],
   "source": [
    "!pip install scikit-plot\n",
    "import scikitplot as skplt\n",
    "skplt.metrics.plot_confusion_matrix(\n",
    "    y_test, \n",
    "    y_pred,\n",
    "    figsize=(6,6),x_tick_rotation=90)"
   ]
  },
  {
   "cell_type": "code",
   "execution_count": 25,
   "id": "dWFZPntIdHKG",
   "metadata": {
    "colab": {
     "base_uri": "https://localhost:8080/"
    },
    "executionInfo": {
     "elapsed": 39,
     "status": "ok",
     "timestamp": 1681474805175,
     "user": {
      "displayName": "Avalon Wood",
      "userId": "07940190540561300374"
     },
     "user_tz": -480
    },
    "id": "dWFZPntIdHKG",
    "outputId": "13621204-1386-4aed-fd40-9b317cd14719"
   },
   "outputs": [
    {
     "name": "stdout",
     "output_type": "stream",
     "text": [
      "              precision    recall  f1-score   support\n",
      "\n",
      "           0       0.71      0.74      0.73     29782\n",
      "           1       0.66      0.82      0.74     29242\n",
      "           2       0.56      0.17      0.26     11900\n",
      "\n",
      "    accuracy                           0.68     70924\n",
      "   macro avg       0.65      0.58      0.57     70924\n",
      "weighted avg       0.67      0.68      0.65     70924\n",
      "\n"
     ]
    }
   ],
   "source": [
    "print(classification_report(y_test, y_pred))"
   ]
  }
 ],
 "metadata": {
  "accelerator": "GPU",
  "colab": {
   "provenance": []
  },
  "gpuClass": "standard",
  "kernelspec": {
   "display_name": "Python 3 (ipykernel)",
   "language": "python",
   "name": "python3"
  },
  "language_info": {
   "codemirror_mode": {
    "name": "ipython",
    "version": 3
   },
   "file_extension": ".py",
   "mimetype": "text/x-python",
   "name": "python",
   "nbconvert_exporter": "python",
   "pygments_lexer": "ipython3",
   "version": "3.8.12"
  }
 },
 "nbformat": 4,
 "nbformat_minor": 5
}
