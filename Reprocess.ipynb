{
 "cells": [
  {
   "cell_type": "code",
   "execution_count": null,
   "id": "d933a16e",
   "metadata": {},
   "outputs": [],
   "source": [
    "import pandas as pd\n",
    "import nltk\n",
    "from nltk.corpus import stopwords\n",
    "from nltk.tokenize import word_tokenize\n",
    "from sklearn.feature_extraction.text import CountVectorizer\n",
    "from sklearn.model_selection import train_test_split\n",
    "from sklearn.svm import SVC\n",
    "from sklearn.metrics import accuracy_score\n"
   ]
  },
  {
   "cell_type": "markdown",
   "id": "a77d6dfe",
   "metadata": {},
   "source": [
    "# Reprocess"
   ]
  },
  {
   "cell_type": "code",
   "execution_count": null,
   "id": "b1461c2f",
   "metadata": {},
   "outputs": [],
   "source": [
    "data_path = 'data/convincing_data.csv'\n",
    "data = pd.read_csv(data_path)"
   ]
  },
  {
   "cell_type": "code",
   "execution_count": null,
   "id": "7aa02fbb",
   "metadata": {},
   "outputs": [],
   "source": [
    "data['body_cleaned'] = data['body_cleaned'].apply(lambda x: x.strip('[]').replace(\"'\",'').split(', '))\n",
    "data ['text'] = data['body_cleaned'].apply(lambda x: ' '.join(x))\n",
    "data[['id','text','sentiment']].to_csv('text.csv')"
   ]
  },
  {
   "cell_type": "markdown",
   "id": "0f885df9",
   "metadata": {},
   "source": [
    "# Read directly & Vectorization"
   ]
  },
  {
   "cell_type": "code",
   "execution_count": null,
   "id": "0e7374f0",
   "metadata": {},
   "outputs": [],
   "source": [
    "data_path = 'text.csv'\n",
    "data = pd.read_csv(data_path)"
   ]
  },
  {
   "cell_type": "code",
   "execution_count": null,
   "id": "26ec1c6d",
   "metadata": {},
   "outputs": [],
   "source": [
    "def score_label(score):\n",
    "    if score > 0.3: return 1\n",
    "    elif score < 0.3: return -1\n",
    "    else: return 0\n",
    "data['sentiment'] = data['sentiment'].apply(lambda x: score_label(x))"
   ]
  },
  {
   "cell_type": "code",
   "execution_count": null,
   "id": "da1fcb54",
   "metadata": {
    "scrolled": true
   },
   "outputs": [],
   "source": [
    "vectorizer = CountVectorizer()\n",
    "X = vectorizer.fit_transform(data['text'])\n",
    "y = data['sentiment']"
   ]
  },
  {
   "cell_type": "markdown",
   "id": "240a9e81",
   "metadata": {},
   "source": [
    "# Split training and testing set"
   ]
  },
  {
   "cell_type": "code",
   "execution_count": null,
   "id": "550c81f1",
   "metadata": {},
   "outputs": [],
   "source": [
    "X_train, X_test, y_train, y_test = train_test_split(X, y, test_size=0.1, random_state=42)"
   ]
  },
  {
   "cell_type": "code",
   "execution_count": null,
   "id": "e3361ffa",
   "metadata": {},
   "outputs": [],
   "source": [
    "X_train.shape"
   ]
  },
  {
   "cell_type": "markdown",
   "id": "477bee83",
   "metadata": {},
   "source": [
    "# Reduce the dimensionality"
   ]
  },
  {
   "cell_type": "code",
   "execution_count": null,
   "id": "3cdcf8b0",
   "metadata": {},
   "outputs": [],
   "source": [
    "from sklearn.decomposition import TruncatedSVD\n",
    "svd = TruncatedSVD(n_components=500)\n",
    "X_train = svd.fit_transform(X_train)\n",
    "X_test = svd.fit_transform(X_test)"
   ]
  },
  {
   "cell_type": "code",
   "execution_count": null,
   "id": "54082a8b",
   "metadata": {},
   "outputs": [],
   "source": [
    "import matplotlib.pyplot as plt\n",
    "import numpy as np\n",
    "plt.plot(np.cumsum(svd.explained_variance_ratio_))"
   ]
  },
  {
   "cell_type": "code",
   "execution_count": null,
   "id": "7fb223bc",
   "metadata": {},
   "outputs": [],
   "source": []
  }
 ],
 "metadata": {
  "kernelspec": {
   "display_name": "Python 3 (ipykernel)",
   "language": "python",
   "name": "python3"
  },
  "language_info": {
   "codemirror_mode": {
    "name": "ipython",
    "version": 3
   },
   "file_extension": ".py",
   "mimetype": "text/x-python",
   "name": "python",
   "nbconvert_exporter": "python",
   "pygments_lexer": "ipython3",
   "version": "3.8.12"
  }
 },
 "nbformat": 4,
 "nbformat_minor": 5
}
