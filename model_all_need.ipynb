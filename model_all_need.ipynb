{
 "cells": [
  {
   "cell_type": "code",
   "execution_count": 1,
   "id": "d933a16e",
   "metadata": {},
   "outputs": [],
   "source": [
    "import random\n",
    "import numpy as np\n",
    "import pandas as pd\n",
    "random.seed(42)\n",
    "np.random.seed(42)\n",
    "\n",
    "import matplotlib.pyplot as plt\n",
    "\n",
    "from sklearn.model_selection import train_test_split\n",
    "from sklearn.feature_extraction.text import CountVectorizer\n",
    "from sklearn.feature_extraction.text import TfidfVectorizer\n",
    "from sklearn.decomposition import TruncatedSVD\n",
    "\n",
    "from sklearn.metrics import classification_report"
   ]
  },
  {
   "cell_type": "markdown",
   "id": "a77d6dfe",
   "metadata": {},
   "source": [
    "# 1. Only use text data"
   ]
  },
  {
   "cell_type": "code",
   "execution_count": 2,
   "id": "b1461c2f",
   "metadata": {},
   "outputs": [],
   "source": [
    "data_path = 'dataset/convincing_data.csv'\n",
    "data = pd.read_csv(data_path)\n",
    "data['body_cleaned'] = data['body_cleaned'].apply(lambda x: x.strip('[]').replace(\"'\",'').split(', '))\n",
    "data ['text'] = data['body_cleaned'].apply(lambda x: ' '.join(x))\n",
    "data = data[['id','text','sentiment']]"
   ]
  },
  {
   "cell_type": "markdown",
   "id": "0f885df9",
   "metadata": {},
   "source": [
    "# 2. Sentiment threshold is +- 1/3"
   ]
  },
  {
   "cell_type": "code",
   "execution_count": 3,
   "id": "26ec1c6d",
   "metadata": {},
   "outputs": [],
   "source": [
    "def score_label(score):\n",
    "    if score > 1/3: return 1\n",
    "    elif score < -1/3: return -1\n",
    "    else: return 0\n",
    "data['sentiment'] = data['sentiment'].apply(lambda x: score_label(x))"
   ]
  },
  {
   "cell_type": "markdown",
   "id": "1d979205",
   "metadata": {},
   "source": [
    "# 3. Four different train and test data"
   ]
  },
  {
   "cell_type": "markdown",
   "id": "b097d405",
   "metadata": {},
   "source": [
    "## 3.1 Only CountVectorizer"
   ]
  },
  {
   "cell_type": "code",
   "execution_count": 4,
   "id": "da1fcb54",
   "metadata": {
    "scrolled": true
   },
   "outputs": [],
   "source": [
    "def split1(df):\n",
    "    random.seed(42)\n",
    "    np.random.seed(42)\n",
    "    X = df['text']\n",
    "    y = df['sentiment']\n",
    "    X_train, X_test, y_train, y_test = train_test_split(X, y, test_size=0.1, random_state=42)\n",
    "    vectorizer = CountVectorizer()\n",
    "    X_train_vectorized = vectorizer.fit_transform(X_train)\n",
    "    X_test_vectorized = vectorizer.transform(X_test)\n",
    "    print(\"X_train.shape: \", X_train_vectorized.shape)\n",
    "    print(\"X_test.shape: \", X_test_vectorized.shape)\n",
    "    return X_train_vectorized, X_test_vectorized, y_train, y_test"
   ]
  },
  {
   "cell_type": "markdown",
   "id": "1c52f579",
   "metadata": {},
   "source": [
    "## 3.2 Only TfidfVectorizer"
   ]
  },
  {
   "cell_type": "code",
   "execution_count": 5,
   "id": "23aaef59",
   "metadata": {},
   "outputs": [],
   "source": [
    "def split2(df):\n",
    "    random.seed(42)\n",
    "    np.random.seed(42)\n",
    "    X = df['text']\n",
    "    y = df['sentiment']\n",
    "    X_train, X_test, y_train, y_test = train_test_split(X, y, test_size=0.1, random_state=42)\n",
    "    vectorizer = TfidfVectorizer()\n",
    "    X_train_vectorized = vectorizer.fit_transform(X_train)\n",
    "    X_test_vectorized = vectorizer.transform(X_test)\n",
    "    print(\"X_train.shape: \", X_train_vectorized.shape)\n",
    "    print(\"X_test.shape: \", X_test_vectorized.shape)\n",
    "    return X_train_vectorized, X_test_vectorized, y_train, y_test"
   ]
  },
  {
   "cell_type": "markdown",
   "id": "484b831b",
   "metadata": {},
   "source": [
    "## 3.3 CountVectorizer+TruncatedSVD (Reduce dimension)"
   ]
  },
  {
   "cell_type": "code",
   "execution_count": 6,
   "id": "8b8b5cb4",
   "metadata": {},
   "outputs": [],
   "source": [
    "def split3(df, dimension):\n",
    "    random.seed(42)\n",
    "    np.random.seed(42)\n",
    "    X = df['text']\n",
    "    y = df['sentiment']\n",
    "    X_train, X_test, y_train, y_test = train_test_split(X, y, test_size=0.1, random_state=42)\n",
    "    vectorizer = CountVectorizer()\n",
    "    X_train_vectorized = vectorizer.fit_transform(X_train)\n",
    "    X_test_vectorized = vectorizer.transform(X_test)\n",
    "    svd = TruncatedSVD(n_components=dimension)\n",
    "    X_train = svd.fit_transform(X_train_vectorized)\n",
    "    X_test = svd.transform(X_test_vectorized)\n",
    "    print(\"X_train.shape: \", X_train.shape)\n",
    "    print(\"X_test.shape: \", X_test.shape)\n",
    "    plt.plot(np.cumsum(svd.explained_variance_ratio_))\n",
    "    return X_train, X_test, y_train, y_test"
   ]
  },
  {
   "cell_type": "markdown",
   "id": "477bee83",
   "metadata": {},
   "source": [
    "## 3.4 TfidfVectorizer+Max_features (Reduce dimension)"
   ]
  },
  {
   "cell_type": "code",
   "execution_count": 7,
   "id": "3cdcf8b0",
   "metadata": {},
   "outputs": [],
   "source": [
    "def split4(df, dimension):\n",
    "    random.seed(42)\n",
    "    np.random.seed(42)\n",
    "    X = df['text']\n",
    "    y = df['sentiment']\n",
    "    X_train, X_test, y_train, y_test = train_test_split(X, y, test_size=0.1, random_state=42)\n",
    "    vectorizer = TfidfVectorizer(max_features=dimension)\n",
    "    X_train_vectorized = vectorizer.fit_transform(X_train)\n",
    "    X_test_vectorized = vectorizer.transform(X_test)\n",
    "    print(\"X_train.shape: \", X_train_vectorized.shape)\n",
    "    print(\"X_test.shape: \", X_test_vectorized.shape)\n",
    "    return X_train_vectorized, X_test_vectorized, y_train, y_test"
   ]
  },
  {
   "cell_type": "markdown",
   "id": "aaeee6b7",
   "metadata": {},
   "source": [
    "## 3.5 Function Usage"
   ]
  },
  {
   "cell_type": "code",
   "execution_count": 8,
   "id": "bdc68039",
   "metadata": {},
   "outputs": [
    {
     "data": {
      "text/plain": [
       "'\\nx_train1, x_test1, y_train1, y_test1 = split1(data)\\nx_train2, x_test2, y_train2, y_test2 = split2(data)\\nx_train3, x_test3, y_train3, y_test3 = split3(data, 500)\\nx_train4, x_test4, y_train4, y_test4 = split4(data, 1000)\\n'"
      ]
     },
     "execution_count": 8,
     "metadata": {},
     "output_type": "execute_result"
    }
   ],
   "source": [
    "'''\n",
    "x_train1, x_test1, y_train1, y_test1 = split1(data)\n",
    "x_train2, x_test2, y_train2, y_test2 = split2(data)\n",
    "x_train3, x_test3, y_train3, y_test3 = split3(data, 500)\n",
    "x_train4, x_test4, y_train4, y_test4 = split4(data, 1000)\n",
    "'''"
   ]
  },
  {
   "cell_type": "markdown",
   "id": "5b2b7666",
   "metadata": {},
   "source": [
    "# 4 Model evaluation"
   ]
  },
  {
   "cell_type": "markdown",
   "id": "a8e94273",
   "metadata": {},
   "source": [
    "All store y_pred and use classification_report(y_test, y_pred)"
   ]
  }
 ],
 "metadata": {
  "kernelspec": {
   "display_name": "cs5344",
   "language": "python",
   "name": "cs5344"
  },
  "language_info": {
   "codemirror_mode": {
    "name": "ipython",
    "version": 3
   },
   "file_extension": ".py",
   "mimetype": "text/x-python",
   "name": "python",
   "nbconvert_exporter": "python",
   "pygments_lexer": "ipython3",
   "version": "3.10.9"
  }
 },
 "nbformat": 4,
 "nbformat_minor": 5
}
