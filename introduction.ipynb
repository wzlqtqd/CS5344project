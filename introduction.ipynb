{
 "cells": [
  {
   "cell_type": "markdown",
   "id": "00e26613",
   "metadata": {},
   "source": [
    "# Data Introduction"
   ]
  },
  {
   "cell_type": "code",
   "execution_count": 1,
   "id": "cec82a89",
   "metadata": {},
   "outputs": [],
   "source": [
    "import numpy as np\n",
    "import pandas as pd"
   ]
  },
  {
   "cell_type": "code",
   "execution_count": 2,
   "id": "4886a5bf",
   "metadata": {},
   "outputs": [],
   "source": [
    "df = pd.read_csv('./dataset/the-reddit-climate-change-dataset-comments.csv')"
   ]
  },
  {
   "cell_type": "code",
   "execution_count": 3,
   "id": "c1903f3e",
   "metadata": {},
   "outputs": [
    {
     "data": {
      "text/plain": [
       "Index(['type', 'id', 'subreddit.id', 'subreddit.name', 'subreddit.nsfw',\n",
       "       'created_utc', 'permalink', 'body', 'sentiment', 'score'],\n",
       "      dtype='object')"
      ]
     },
     "execution_count": 3,
     "metadata": {},
     "output_type": "execute_result"
    }
   ],
   "source": [
    "df.columns"
   ]
  },
  {
   "cell_type": "code",
   "execution_count": 4,
   "id": "9451a99d",
   "metadata": {},
   "outputs": [
    {
     "data": {
      "text/html": [
       "<div>\n",
       "<style scoped>\n",
       "    .dataframe tbody tr th:only-of-type {\n",
       "        vertical-align: middle;\n",
       "    }\n",
       "\n",
       "    .dataframe tbody tr th {\n",
       "        vertical-align: top;\n",
       "    }\n",
       "\n",
       "    .dataframe thead th {\n",
       "        text-align: right;\n",
       "    }\n",
       "</style>\n",
       "<table border=\"1\" class=\"dataframe\">\n",
       "  <thead>\n",
       "    <tr style=\"text-align: right;\">\n",
       "      <th></th>\n",
       "      <th>type</th>\n",
       "      <th>id</th>\n",
       "      <th>subreddit.id</th>\n",
       "      <th>subreddit.name</th>\n",
       "      <th>subreddit.nsfw</th>\n",
       "      <th>created_utc</th>\n",
       "      <th>permalink</th>\n",
       "      <th>body</th>\n",
       "      <th>sentiment</th>\n",
       "      <th>score</th>\n",
       "    </tr>\n",
       "  </thead>\n",
       "  <tbody>\n",
       "    <tr>\n",
       "      <th>0</th>\n",
       "      <td>comment</td>\n",
       "      <td>imlddn9</td>\n",
       "      <td>2qh3l</td>\n",
       "      <td>news</td>\n",
       "      <td>False</td>\n",
       "      <td>1661990368</td>\n",
       "      <td>https://old.reddit.com/r/news/comments/x2cszk/...</td>\n",
       "      <td>Yeah but what the above commenter is saying is...</td>\n",
       "      <td>0.5719</td>\n",
       "      <td>2</td>\n",
       "    </tr>\n",
       "    <tr>\n",
       "      <th>1</th>\n",
       "      <td>comment</td>\n",
       "      <td>imldbeh</td>\n",
       "      <td>2qn7b</td>\n",
       "      <td>ohio</td>\n",
       "      <td>False</td>\n",
       "      <td>1661990340</td>\n",
       "      <td>https://old.reddit.com/r/Ohio/comments/x2awnp/...</td>\n",
       "      <td>Any comparison of efficiency between solar and...</td>\n",
       "      <td>-0.9877</td>\n",
       "      <td>2</td>\n",
       "    </tr>\n",
       "    <tr>\n",
       "      <th>2</th>\n",
       "      <td>comment</td>\n",
       "      <td>imldado</td>\n",
       "      <td>2qhma</td>\n",
       "      <td>newzealand</td>\n",
       "      <td>False</td>\n",
       "      <td>1661990327</td>\n",
       "      <td>https://old.reddit.com/r/newzealand/comments/x...</td>\n",
       "      <td>I'm honestly waiting for climate change and th...</td>\n",
       "      <td>-0.1143</td>\n",
       "      <td>1</td>\n",
       "    </tr>\n",
       "    <tr>\n",
       "      <th>3</th>\n",
       "      <td>comment</td>\n",
       "      <td>imld6cb</td>\n",
       "      <td>2qi09</td>\n",
       "      <td>sacramento</td>\n",
       "      <td>False</td>\n",
       "      <td>1661990278</td>\n",
       "      <td>https://old.reddit.com/r/Sacramento/comments/x...</td>\n",
       "      <td>Not just Sacramento. It's actually happening a...</td>\n",
       "      <td>0.0000</td>\n",
       "      <td>4</td>\n",
       "    </tr>\n",
       "    <tr>\n",
       "      <th>4</th>\n",
       "      <td>comment</td>\n",
       "      <td>imld0kj</td>\n",
       "      <td>2qh1i</td>\n",
       "      <td>askreddit</td>\n",
       "      <td>False</td>\n",
       "      <td>1661990206</td>\n",
       "      <td>https://old.reddit.com/r/AskReddit/comments/x2...</td>\n",
       "      <td>I think climate change tends to get some peopl...</td>\n",
       "      <td>0.6634</td>\n",
       "      <td>1</td>\n",
       "    </tr>\n",
       "  </tbody>\n",
       "</table>\n",
       "</div>"
      ],
      "text/plain": [
       "      type       id subreddit.id subreddit.name  subreddit.nsfw  created_utc  \\\n",
       "0  comment  imlddn9        2qh3l           news           False   1661990368   \n",
       "1  comment  imldbeh        2qn7b           ohio           False   1661990340   \n",
       "2  comment  imldado        2qhma     newzealand           False   1661990327   \n",
       "3  comment  imld6cb        2qi09     sacramento           False   1661990278   \n",
       "4  comment  imld0kj        2qh1i      askreddit           False   1661990206   \n",
       "\n",
       "                                           permalink  \\\n",
       "0  https://old.reddit.com/r/news/comments/x2cszk/...   \n",
       "1  https://old.reddit.com/r/Ohio/comments/x2awnp/...   \n",
       "2  https://old.reddit.com/r/newzealand/comments/x...   \n",
       "3  https://old.reddit.com/r/Sacramento/comments/x...   \n",
       "4  https://old.reddit.com/r/AskReddit/comments/x2...   \n",
       "\n",
       "                                                body  sentiment  score  \n",
       "0  Yeah but what the above commenter is saying is...     0.5719      2  \n",
       "1  Any comparison of efficiency between solar and...    -0.9877      2  \n",
       "2  I'm honestly waiting for climate change and th...    -0.1143      1  \n",
       "3  Not just Sacramento. It's actually happening a...     0.0000      4  \n",
       "4  I think climate change tends to get some peopl...     0.6634      1  "
      ]
     },
     "execution_count": 4,
     "metadata": {},
     "output_type": "execute_result"
    }
   ],
   "source": [
    "df.head()"
   ]
  },
  {
   "cell_type": "code",
   "execution_count": 5,
   "id": "dc98b9e8",
   "metadata": {},
   "outputs": [
    {
     "data": {
      "text/plain": [
       "comment    4600698\n",
       "Name: type, dtype: int64"
      ]
     },
     "execution_count": 5,
     "metadata": {},
     "output_type": "execute_result"
    }
   ],
   "source": [
    "df['type'].value_counts()"
   ]
  },
  {
   "cell_type": "code",
   "execution_count": 6,
   "id": "3a4c36d1",
   "metadata": {},
   "outputs": [
    {
     "data": {
      "text/plain": [
       "False    4585224\n",
       "True       15474\n",
       "Name: subreddit.nsfw, dtype: int64"
      ]
     },
     "execution_count": 6,
     "metadata": {},
     "output_type": "execute_result"
    }
   ],
   "source": [
    "df['subreddit.nsfw'].value_counts()"
   ]
  },
  {
   "cell_type": "markdown",
   "id": "17962428",
   "metadata": {},
   "source": [
    "Column 'type', 'subreddit.nsfw', 'permalink' can be dropped.\n",
    "\n",
    "Because the role of 'id' can be replaced by index and the role of 'subreddit.id' can be replaced by 'subreddit.name', 'id' and 'subreddit.id' can also be dropped."
   ]
  },
  {
   "cell_type": "code",
   "execution_count": 7,
   "id": "6d348824",
   "metadata": {},
   "outputs": [
    {
     "data": {
      "text/plain": [
       "57131"
      ]
     },
     "execution_count": 7,
     "metadata": {},
     "output_type": "execute_result"
    }
   ],
   "source": [
    "len(df[df['sentiment'].isnull()])"
   ]
  },
  {
   "cell_type": "markdown",
   "id": "70855a2d",
   "metadata": {},
   "source": [
    "Null values exist in the column 'sentiment' and will be removed in subsequent processing."
   ]
  }
 ],
 "metadata": {
  "kernelspec": {
   "display_name": "dsa5204",
   "language": "python",
   "name": "dsa5204"
  },
  "language_info": {
   "codemirror_mode": {
    "name": "ipython",
    "version": 3
   },
   "file_extension": ".py",
   "mimetype": "text/x-python",
   "name": "python",
   "nbconvert_exporter": "python",
   "pygments_lexer": "ipython3",
   "version": "3.10.9"
  }
 },
 "nbformat": 4,
 "nbformat_minor": 5
}
